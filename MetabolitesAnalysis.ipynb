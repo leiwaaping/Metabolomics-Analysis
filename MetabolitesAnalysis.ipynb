{
 "cells": [
  {
   "cell_type": "markdown",
   "metadata": {},
   "source": [
    "### read in unnormalizated data"
   ]
  },
  {
   "cell_type": "code",
   "execution_count": 11,
   "metadata": {},
   "outputs": [
    {
     "data": {
      "text/html": [
       "<table>\n",
       "<caption>A matrix: 5 × 29 of type chr</caption>\n",
       "<thead>\n",
       "\t<tr><th></th><th scope=col>Group</th><th scope=col>Ala</th><th scope=col>Arg</th><th scope=col>Asn</th><th scope=col>Asp</th><th scope=col>Cit</th><th scope=col>Gln</th><th scope=col>Glu</th><th scope=col>Gly</th><th scope=col>His</th><th scope=col>⋯</th><th scope=col>Trp</th><th scope=col>Tyr</th><th scope=col>Val</th><th scope=col>ADMA</th><th scope=col>Creatinine</th><th scope=col>Kynurenine</th><th scope=col>SDMA</th><th scope=col>Sarcosine</th><th scope=col>Taurine</th><th scope=col>t4-OH-Pro</th></tr>\n",
       "</thead>\n",
       "<tbody>\n",
       "\t<tr><th scope=row>LOD..calc..</th><td>LOD (calc.) </td><td>4.23</td><td>0.5 </td><td>1.5 </td><td>1.5 </td><td>1   </td><td>1.5</td><td>1.48</td><td>0.5</td><td>0.5 </td><td>⋯</td><td>0.5 </td><td>0.5 </td><td>0.5</td><td>0.08 </td><td>1   </td><td>0.3  </td><td>0.039</td><td>0.3 </td><td>0.8 </td><td>0.1 </td></tr>\n",
       "\t<tr><th scope=row>GX007</th><td>Cancer      </td><td>395 </td><td>77.5</td><td>62.1</td><td>7.22</td><td>39  </td><td>787</td><td>52.4</td><td>289</td><td>68.9</td><td>⋯</td><td>44.1</td><td>53.6</td><td>222</td><td>0.573</td><td>81.4</td><td>2.82 </td><td>0.639</td><td>5.54</td><td>46.9</td><td>22  </td></tr>\n",
       "\t<tr><th scope=row>GX009</th><td>Cancer      </td><td>242 </td><td>93  </td><td>44.6</td><td>4.44</td><td>39.4</td><td>723</td><td>127 </td><td>244</td><td>70.4</td><td>⋯</td><td>39.5</td><td>51.9</td><td>281</td><td>0.643</td><td>54.3</td><td>2.04 </td><td>0.609</td><td>5   </td><td>33.4</td><td>12.7</td></tr>\n",
       "\t<tr><th scope=row>GX013</th><td>Cancer      </td><td>273 </td><td>81.7</td><td>47.3</td><td>4.43</td><td>36.5</td><td>616</td><td>37.2</td><td>254</td><td>63.7</td><td>⋯</td><td>31.3</td><td>53.2</td><td>135</td><td>0.541</td><td>45  </td><td>0.866</td><td>0.594</td><td>4.33</td><td>36.3</td><td>6.16</td></tr>\n",
       "\t<tr><th scope=row>JC.repeat.01</th><td>Normal      </td><td>367 </td><td>70.7</td><td>49.4</td><td>3.58</td><td>26.8</td><td>555</td><td>67.8</td><td>242</td><td>78.7</td><td>⋯</td><td>71.2</td><td>60.3</td><td>225</td><td>0.481</td><td>55.9</td><td>1.76 </td><td>0.407</td><td>3.37</td><td>47.5</td><td>24.5</td></tr>\n",
       "</tbody>\n",
       "</table>\n"
      ],
      "text/latex": [
       "A matrix: 5 × 29 of type chr\n",
       "\\begin{tabular}{r|lllllllllllllllllllll}\n",
       "  & Group & Ala & Arg & Asn & Asp & Cit & Gln & Glu & Gly & His & ⋯ & Trp & Tyr & Val & ADMA & Creatinine & Kynurenine & SDMA & Sarcosine & Taurine & t4-OH-Pro\\\\\n",
       "\\hline\n",
       "\tLOD..calc.. & LOD (calc.)  & 4.23 & 0.5  & 1.5  & 1.5  & 1    & 1.5 & 1.48 & 0.5 & 0.5  & ⋯ & 0.5  & 0.5  & 0.5 & 0.08  & 1    & 0.3   & 0.039 & 0.3  & 0.8  & 0.1 \\\\\n",
       "\tGX007 & Cancer       & 395  & 77.5 & 62.1 & 7.22 & 39   & 787 & 52.4 & 289 & 68.9 & ⋯ & 44.1 & 53.6 & 222 & 0.573 & 81.4 & 2.82  & 0.639 & 5.54 & 46.9 & 22  \\\\\n",
       "\tGX009 & Cancer       & 242  & 93   & 44.6 & 4.44 & 39.4 & 723 & 127  & 244 & 70.4 & ⋯ & 39.5 & 51.9 & 281 & 0.643 & 54.3 & 2.04  & 0.609 & 5    & 33.4 & 12.7\\\\\n",
       "\tGX013 & Cancer       & 273  & 81.7 & 47.3 & 4.43 & 36.5 & 616 & 37.2 & 254 & 63.7 & ⋯ & 31.3 & 53.2 & 135 & 0.541 & 45   & 0.866 & 0.594 & 4.33 & 36.3 & 6.16\\\\\n",
       "\tJC.repeat.01 & Normal       & 367  & 70.7 & 49.4 & 3.58 & 26.8 & 555 & 67.8 & 242 & 78.7 & ⋯ & 71.2 & 60.3 & 225 & 0.481 & 55.9 & 1.76  & 0.407 & 3.37 & 47.5 & 24.5\\\\\n",
       "\\end{tabular}\n"
      ],
      "text/markdown": [
       "\n",
       "A matrix: 5 × 29 of type chr\n",
       "\n",
       "| <!--/--> | Group | Ala | Arg | Asn | Asp | Cit | Gln | Glu | Gly | His | ⋯ | Trp | Tyr | Val | ADMA | Creatinine | Kynurenine | SDMA | Sarcosine | Taurine | t4-OH-Pro |\n",
       "|---|---|---|---|---|---|---|---|---|---|---|---|---|---|---|---|---|---|---|---|---|---|\n",
       "| LOD..calc.. | LOD (calc.)  | 4.23 | 0.5  | 1.5  | 1.5  | 1    | 1.5 | 1.48 | 0.5 | 0.5  | ⋯ | 0.5  | 0.5  | 0.5 | 0.08  | 1    | 0.3   | 0.039 | 0.3  | 0.8  | 0.1  |\n",
       "| GX007 | Cancer       | 395  | 77.5 | 62.1 | 7.22 | 39   | 787 | 52.4 | 289 | 68.9 | ⋯ | 44.1 | 53.6 | 222 | 0.573 | 81.4 | 2.82  | 0.639 | 5.54 | 46.9 | 22   |\n",
       "| GX009 | Cancer       | 242  | 93   | 44.6 | 4.44 | 39.4 | 723 | 127  | 244 | 70.4 | ⋯ | 39.5 | 51.9 | 281 | 0.643 | 54.3 | 2.04  | 0.609 | 5    | 33.4 | 12.7 |\n",
       "| GX013 | Cancer       | 273  | 81.7 | 47.3 | 4.43 | 36.5 | 616 | 37.2 | 254 | 63.7 | ⋯ | 31.3 | 53.2 | 135 | 0.541 | 45   | 0.866 | 0.594 | 4.33 | 36.3 | 6.16 |\n",
       "| JC.repeat.01 | Normal       | 367  | 70.7 | 49.4 | 3.58 | 26.8 | 555 | 67.8 | 242 | 78.7 | ⋯ | 71.2 | 60.3 | 225 | 0.481 | 55.9 | 1.76  | 0.407 | 3.37 | 47.5 | 24.5 |\n",
       "\n"
      ],
      "text/plain": [
       "             Group        Ala  Arg  Asn  Asp  Cit  Gln Glu  Gly His  ⋯ Trp \n",
       "LOD..calc..  LOD (calc.)  4.23 0.5  1.5  1.5  1    1.5 1.48 0.5 0.5  ⋯ 0.5 \n",
       "GX007        Cancer       395  77.5 62.1 7.22 39   787 52.4 289 68.9 ⋯ 44.1\n",
       "GX009        Cancer       242  93   44.6 4.44 39.4 723 127  244 70.4 ⋯ 39.5\n",
       "GX013        Cancer       273  81.7 47.3 4.43 36.5 616 37.2 254 63.7 ⋯ 31.3\n",
       "JC.repeat.01 Normal       367  70.7 49.4 3.58 26.8 555 67.8 242 78.7 ⋯ 71.2\n",
       "             Tyr  Val ADMA  Creatinine Kynurenine SDMA  Sarcosine Taurine\n",
       "LOD..calc..  0.5  0.5 0.08  1          0.3        0.039 0.3       0.8    \n",
       "GX007        53.6 222 0.573 81.4       2.82       0.639 5.54      46.9   \n",
       "GX009        51.9 281 0.643 54.3       2.04       0.609 5         33.4   \n",
       "GX013        53.2 135 0.541 45         0.866      0.594 4.33      36.3   \n",
       "JC.repeat.01 60.3 225 0.481 55.9       1.76       0.407 3.37      47.5   \n",
       "             t4-OH-Pro\n",
       "LOD..calc..  0.1      \n",
       "GX007        22       \n",
       "GX009        12.7     \n",
       "GX013        6.16     \n",
       "JC.repeat.01 24.5     "
      ]
     },
     "metadata": {},
     "output_type": "display_data"
    },
    {
     "data": {
      "text/html": [
       "<style>\n",
       ".list-inline {list-style: none; margin:0; padding: 0}\n",
       ".list-inline>li {display: inline-block}\n",
       ".list-inline>li:not(:last-child)::after {content: \"\\00b7\"; padding: 0 .5ex}\n",
       "</style>\n",
       "<ol class=list-inline><li>79</li><li>29</li></ol>\n"
      ],
      "text/latex": [
       "\\begin{enumerate*}\n",
       "\\item 79\n",
       "\\item 29\n",
       "\\end{enumerate*}\n"
      ],
      "text/markdown": [
       "1. 79\n",
       "2. 29\n",
       "\n",
       "\n"
      ],
      "text/plain": [
       "[1] 79 29"
      ]
     },
     "metadata": {},
     "output_type": "display_data"
    }
   ],
   "source": [
    "data<-as.data.frame(read.table(\"data/20190617-SY-IDQ180-raw-aa&amines.csv\",sep=\",\",header=T,row.names=1,stringsAsFactors=F))\n",
    "#data[is.na(data)]=0\n",
    "data<- t(data)\n",
    "data[1:5,]\n",
    "dim(data)\n"
   ]
  },
  {
   "cell_type": "markdown",
   "metadata": {},
   "source": [
    "### impute N.D. / NA"
   ]
  },
  {
   "cell_type": "code",
   "execution_count": 6,
   "metadata": {},
   "outputs": [
    {
     "data": {
      "text/html": [
       "<table>\n",
       "<caption>A data.frame: 3 × 40</caption>\n",
       "<thead>\n",
       "\t<tr><th></th><th scope=col>V1</th><th scope=col>JC.repeat.01</th><th scope=col>JC.repeat.02</th><th scope=col>JC.repeat.03</th><th scope=col>JC40002PL.02</th><th scope=col>JC40003PL.02</th><th scope=col>JC40004PL.02</th><th scope=col>JC40005PL.02</th><th scope=col>JC40006PL.02</th><th scope=col>JC40008PL.02</th><th scope=col>⋯</th><th scope=col>JC50020PL.02</th><th scope=col>JC50021PL.02</th><th scope=col>JC50022PL.02</th><th scope=col>JC50023PL.02</th><th scope=col>JC50024PL.02</th><th scope=col>JC50025PL.02</th><th scope=col>JC50026PL.02</th><th scope=col>JC50027PL.02</th><th scope=col>JC50028PL.02</th><th scope=col>JC50029PL.02</th></tr>\n",
       "\t<tr><th></th><th scope=col>&lt;dbl&gt;</th><th scope=col>&lt;dbl&gt;</th><th scope=col>&lt;dbl&gt;</th><th scope=col>&lt;dbl&gt;</th><th scope=col>&lt;dbl&gt;</th><th scope=col>&lt;dbl&gt;</th><th scope=col>&lt;dbl&gt;</th><th scope=col>&lt;dbl&gt;</th><th scope=col>&lt;dbl&gt;</th><th scope=col>&lt;dbl&gt;</th><th scope=col>⋯</th><th scope=col>&lt;dbl&gt;</th><th scope=col>&lt;dbl&gt;</th><th scope=col>&lt;dbl&gt;</th><th scope=col>&lt;dbl&gt;</th><th scope=col>&lt;dbl&gt;</th><th scope=col>&lt;dbl&gt;</th><th scope=col>&lt;dbl&gt;</th><th scope=col>&lt;dbl&gt;</th><th scope=col>&lt;dbl&gt;</th><th scope=col>&lt;dbl&gt;</th></tr>\n",
       "</thead>\n",
       "<tbody>\n",
       "\t<tr><th scope=row>Ala</th><td>4.23</td><td>367.0</td><td>426.0</td><td>336.0</td><td> 0.00</td><td>275.0</td><td>283.0</td><td>317.0</td><td>342.0</td><td>316.0</td><td>⋯</td><td>338.0</td><td>467.0</td><td>468.0</td><td>703</td><td>440.0</td><td>489.0</td><td>473</td><td>451.0</td><td>418.0</td><td>400.0</td></tr>\n",
       "\t<tr><th scope=row>Arg</th><td>0.50</td><td> 70.7</td><td> 76.0</td><td> 48.4</td><td>98.90</td><td> 62.2</td><td> 65.1</td><td> 46.2</td><td> 62.4</td><td> 42.6</td><td>⋯</td><td> 86.1</td><td>130.0</td><td>122.0</td><td>107</td><td> 81.2</td><td> 74.3</td><td>111</td><td>119.0</td><td>148.0</td><td>106.0</td></tr>\n",
       "\t<tr><th scope=row>Asn</th><td>1.50</td><td> 49.4</td><td> 49.8</td><td> 61.3</td><td> 0.75</td><td> 46.6</td><td> 44.6</td><td> 53.7</td><td> 46.8</td><td> 63.3</td><td>⋯</td><td> 43.5</td><td> 54.9</td><td> 52.2</td><td> 66</td><td> 44.2</td><td> 40.5</td><td> 45</td><td> 49.7</td><td> 58.6</td><td> 45.4</td></tr>\n",
       "</tbody>\n",
       "</table>\n"
      ],
      "text/latex": [
       "A data.frame: 3 × 40\n",
       "\\begin{tabular}{r|lllllllllllllllllllll}\n",
       "  & V1 & JC.repeat.01 & JC.repeat.02 & JC.repeat.03 & JC40002PL.02 & JC40003PL.02 & JC40004PL.02 & JC40005PL.02 & JC40006PL.02 & JC40008PL.02 & ⋯ & JC50020PL.02 & JC50021PL.02 & JC50022PL.02 & JC50023PL.02 & JC50024PL.02 & JC50025PL.02 & JC50026PL.02 & JC50027PL.02 & JC50028PL.02 & JC50029PL.02\\\\\n",
       "  & <dbl> & <dbl> & <dbl> & <dbl> & <dbl> & <dbl> & <dbl> & <dbl> & <dbl> & <dbl> & ⋯ & <dbl> & <dbl> & <dbl> & <dbl> & <dbl> & <dbl> & <dbl> & <dbl> & <dbl> & <dbl>\\\\\n",
       "\\hline\n",
       "\tAla & 4.23 & 367.0 & 426.0 & 336.0 &  0.00 & 275.0 & 283.0 & 317.0 & 342.0 & 316.0 & ⋯ & 338.0 & 467.0 & 468.0 & 703 & 440.0 & 489.0 & 473 & 451.0 & 418.0 & 400.0\\\\\n",
       "\tArg & 0.50 &  70.7 &  76.0 &  48.4 & 98.90 &  62.2 &  65.1 &  46.2 &  62.4 &  42.6 & ⋯ &  86.1 & 130.0 & 122.0 & 107 &  81.2 &  74.3 & 111 & 119.0 & 148.0 & 106.0\\\\\n",
       "\tAsn & 1.50 &  49.4 &  49.8 &  61.3 &  0.75 &  46.6 &  44.6 &  53.7 &  46.8 &  63.3 & ⋯ &  43.5 &  54.9 &  52.2 &  66 &  44.2 &  40.5 &  45 &  49.7 &  58.6 &  45.4\\\\\n",
       "\\end{tabular}\n"
      ],
      "text/markdown": [
       "\n",
       "A data.frame: 3 × 40\n",
       "\n",
       "| <!--/--> | V1 &lt;dbl&gt; | JC.repeat.01 &lt;dbl&gt; | JC.repeat.02 &lt;dbl&gt; | JC.repeat.03 &lt;dbl&gt; | JC40002PL.02 &lt;dbl&gt; | JC40003PL.02 &lt;dbl&gt; | JC40004PL.02 &lt;dbl&gt; | JC40005PL.02 &lt;dbl&gt; | JC40006PL.02 &lt;dbl&gt; | JC40008PL.02 &lt;dbl&gt; | ⋯ ⋯ | JC50020PL.02 &lt;dbl&gt; | JC50021PL.02 &lt;dbl&gt; | JC50022PL.02 &lt;dbl&gt; | JC50023PL.02 &lt;dbl&gt; | JC50024PL.02 &lt;dbl&gt; | JC50025PL.02 &lt;dbl&gt; | JC50026PL.02 &lt;dbl&gt; | JC50027PL.02 &lt;dbl&gt; | JC50028PL.02 &lt;dbl&gt; | JC50029PL.02 &lt;dbl&gt; |\n",
       "|---|---|---|---|---|---|---|---|---|---|---|---|---|---|---|---|---|---|---|---|---|---|\n",
       "| Ala | 4.23 | 367.0 | 426.0 | 336.0 |  0.00 | 275.0 | 283.0 | 317.0 | 342.0 | 316.0 | ⋯ | 338.0 | 467.0 | 468.0 | 703 | 440.0 | 489.0 | 473 | 451.0 | 418.0 | 400.0 |\n",
       "| Arg | 0.50 |  70.7 |  76.0 |  48.4 | 98.90 |  62.2 |  65.1 |  46.2 |  62.4 |  42.6 | ⋯ |  86.1 | 130.0 | 122.0 | 107 |  81.2 |  74.3 | 111 | 119.0 | 148.0 | 106.0 |\n",
       "| Asn | 1.50 |  49.4 |  49.8 |  61.3 |  0.75 |  46.6 |  44.6 |  53.7 |  46.8 |  63.3 | ⋯ |  43.5 |  54.9 |  52.2 |  66 |  44.2 |  40.5 |  45 |  49.7 |  58.6 |  45.4 |\n",
       "\n"
      ],
      "text/plain": [
       "    V1   JC.repeat.01 JC.repeat.02 JC.repeat.03 JC40002PL.02 JC40003PL.02\n",
       "Ala 4.23 367.0        426.0        336.0         0.00        275.0       \n",
       "Arg 0.50  70.7         76.0         48.4        98.90         62.2       \n",
       "Asn 1.50  49.4         49.8         61.3         0.75         46.6       \n",
       "    JC40004PL.02 JC40005PL.02 JC40006PL.02 JC40008PL.02 ⋯ JC50020PL.02\n",
       "Ala 283.0        317.0        342.0        316.0        ⋯ 338.0       \n",
       "Arg  65.1         46.2         62.4         42.6        ⋯  86.1       \n",
       "Asn  44.6         53.7         46.8         63.3        ⋯  43.5       \n",
       "    JC50021PL.02 JC50022PL.02 JC50023PL.02 JC50024PL.02 JC50025PL.02\n",
       "Ala 467.0        468.0        703          440.0        489.0       \n",
       "Arg 130.0        122.0        107           81.2         74.3       \n",
       "Asn  54.9         52.2         66           44.2         40.5       \n",
       "    JC50026PL.02 JC50027PL.02 JC50028PL.02 JC50029PL.02\n",
       "Ala 473          451.0        418.0        400.0       \n",
       "Arg 111          119.0        148.0        106.0       \n",
       "Asn  45           49.7         58.6         45.4       "
      ]
     },
     "metadata": {},
     "output_type": "display_data"
    },
    {
     "data": {
      "text/html": [
       "<table>\n",
       "<caption>A data.frame: 3 × 40</caption>\n",
       "<thead>\n",
       "\t<tr><th></th><th scope=col>V1</th><th scope=col>GX007</th><th scope=col>GX009</th><th scope=col>GX013</th><th scope=col>SY682</th><th scope=col>SY687</th><th scope=col>SY688</th><th scope=col>SY699</th><th scope=col>SY701</th><th scope=col>SY702</th><th scope=col>⋯</th><th scope=col>SY783</th><th scope=col>SY787</th><th scope=col>SY789</th><th scope=col>SY790</th><th scope=col>SY801</th><th scope=col>SY803</th><th scope=col>SY804</th><th scope=col>SY805</th><th scope=col>SY806</th><th scope=col>SY807</th></tr>\n",
       "\t<tr><th></th><th scope=col>&lt;dbl&gt;</th><th scope=col>&lt;dbl&gt;</th><th scope=col>&lt;dbl&gt;</th><th scope=col>&lt;dbl&gt;</th><th scope=col>&lt;dbl&gt;</th><th scope=col>&lt;dbl&gt;</th><th scope=col>&lt;dbl&gt;</th><th scope=col>&lt;dbl&gt;</th><th scope=col>&lt;dbl&gt;</th><th scope=col>&lt;dbl&gt;</th><th scope=col>⋯</th><th scope=col>&lt;dbl&gt;</th><th scope=col>&lt;dbl&gt;</th><th scope=col>&lt;dbl&gt;</th><th scope=col>&lt;dbl&gt;</th><th scope=col>&lt;dbl&gt;</th><th scope=col>&lt;dbl&gt;</th><th scope=col>&lt;dbl&gt;</th><th scope=col>&lt;dbl&gt;</th><th scope=col>&lt;dbl&gt;</th><th scope=col>&lt;dbl&gt;</th></tr>\n",
       "</thead>\n",
       "<tbody>\n",
       "\t<tr><th scope=row>Ala</th><td>4.23</td><td>395.0</td><td>242.0</td><td>273.0</td><td>278.0</td><td>318.0</td><td>200.0</td><td>461.0</td><td>125.0</td><td>484.0</td><td>⋯</td><td>185.0</td><td>291.0</td><td>358.0</td><td>402.0</td><td>483.0</td><td>352.0</td><td>317.0</td><td>345.0</td><td>256.0</td><td>437.0</td></tr>\n",
       "\t<tr><th scope=row>Arg</th><td>0.50</td><td> 77.5</td><td> 93.0</td><td> 81.7</td><td> 62.6</td><td> 85.3</td><td>100.0</td><td>113.0</td><td> 30.8</td><td>131.0</td><td>⋯</td><td> 84.8</td><td> 34.8</td><td> 69.8</td><td> 40.8</td><td> 41.7</td><td> 45.9</td><td> 90.1</td><td> 88.3</td><td> 24.9</td><td> 70.3</td></tr>\n",
       "\t<tr><th scope=row>Asn</th><td>1.50</td><td> 62.1</td><td> 44.6</td><td> 47.3</td><td> 45.1</td><td> 43.9</td><td> 32.5</td><td> 44.5</td><td> 29.2</td><td> 61.1</td><td>⋯</td><td> 37.7</td><td> 36.0</td><td> 35.7</td><td> 38.8</td><td> 38.1</td><td> 38.0</td><td> 46.0</td><td> 37.7</td><td> 29.7</td><td> 48.9</td></tr>\n",
       "</tbody>\n",
       "</table>\n"
      ],
      "text/latex": [
       "A data.frame: 3 × 40\n",
       "\\begin{tabular}{r|lllllllllllllllllllll}\n",
       "  & V1 & GX007 & GX009 & GX013 & SY682 & SY687 & SY688 & SY699 & SY701 & SY702 & ⋯ & SY783 & SY787 & SY789 & SY790 & SY801 & SY803 & SY804 & SY805 & SY806 & SY807\\\\\n",
       "  & <dbl> & <dbl> & <dbl> & <dbl> & <dbl> & <dbl> & <dbl> & <dbl> & <dbl> & <dbl> & ⋯ & <dbl> & <dbl> & <dbl> & <dbl> & <dbl> & <dbl> & <dbl> & <dbl> & <dbl> & <dbl>\\\\\n",
       "\\hline\n",
       "\tAla & 4.23 & 395.0 & 242.0 & 273.0 & 278.0 & 318.0 & 200.0 & 461.0 & 125.0 & 484.0 & ⋯ & 185.0 & 291.0 & 358.0 & 402.0 & 483.0 & 352.0 & 317.0 & 345.0 & 256.0 & 437.0\\\\\n",
       "\tArg & 0.50 &  77.5 &  93.0 &  81.7 &  62.6 &  85.3 & 100.0 & 113.0 &  30.8 & 131.0 & ⋯ &  84.8 &  34.8 &  69.8 &  40.8 &  41.7 &  45.9 &  90.1 &  88.3 &  24.9 &  70.3\\\\\n",
       "\tAsn & 1.50 &  62.1 &  44.6 &  47.3 &  45.1 &  43.9 &  32.5 &  44.5 &  29.2 &  61.1 & ⋯ &  37.7 &  36.0 &  35.7 &  38.8 &  38.1 &  38.0 &  46.0 &  37.7 &  29.7 &  48.9\\\\\n",
       "\\end{tabular}\n"
      ],
      "text/markdown": [
       "\n",
       "A data.frame: 3 × 40\n",
       "\n",
       "| <!--/--> | V1 &lt;dbl&gt; | GX007 &lt;dbl&gt; | GX009 &lt;dbl&gt; | GX013 &lt;dbl&gt; | SY682 &lt;dbl&gt; | SY687 &lt;dbl&gt; | SY688 &lt;dbl&gt; | SY699 &lt;dbl&gt; | SY701 &lt;dbl&gt; | SY702 &lt;dbl&gt; | ⋯ ⋯ | SY783 &lt;dbl&gt; | SY787 &lt;dbl&gt; | SY789 &lt;dbl&gt; | SY790 &lt;dbl&gt; | SY801 &lt;dbl&gt; | SY803 &lt;dbl&gt; | SY804 &lt;dbl&gt; | SY805 &lt;dbl&gt; | SY806 &lt;dbl&gt; | SY807 &lt;dbl&gt; |\n",
       "|---|---|---|---|---|---|---|---|---|---|---|---|---|---|---|---|---|---|---|---|---|---|\n",
       "| Ala | 4.23 | 395.0 | 242.0 | 273.0 | 278.0 | 318.0 | 200.0 | 461.0 | 125.0 | 484.0 | ⋯ | 185.0 | 291.0 | 358.0 | 402.0 | 483.0 | 352.0 | 317.0 | 345.0 | 256.0 | 437.0 |\n",
       "| Arg | 0.50 |  77.5 |  93.0 |  81.7 |  62.6 |  85.3 | 100.0 | 113.0 |  30.8 | 131.0 | ⋯ |  84.8 |  34.8 |  69.8 |  40.8 |  41.7 |  45.9 |  90.1 |  88.3 |  24.9 |  70.3 |\n",
       "| Asn | 1.50 |  62.1 |  44.6 |  47.3 |  45.1 |  43.9 |  32.5 |  44.5 |  29.2 |  61.1 | ⋯ |  37.7 |  36.0 |  35.7 |  38.8 |  38.1 |  38.0 |  46.0 |  37.7 |  29.7 |  48.9 |\n",
       "\n"
      ],
      "text/plain": [
       "    V1   GX007 GX009 GX013 SY682 SY687 SY688 SY699 SY701 SY702 ⋯ SY783 SY787\n",
       "Ala 4.23 395.0 242.0 273.0 278.0 318.0 200.0 461.0 125.0 484.0 ⋯ 185.0 291.0\n",
       "Arg 0.50  77.5  93.0  81.7  62.6  85.3 100.0 113.0  30.8 131.0 ⋯  84.8  34.8\n",
       "Asn 1.50  62.1  44.6  47.3  45.1  43.9  32.5  44.5  29.2  61.1 ⋯  37.7  36.0\n",
       "    SY789 SY790 SY801 SY803 SY804 SY805 SY806 SY807\n",
       "Ala 358.0 402.0 483.0 352.0 317.0 345.0 256.0 437.0\n",
       "Arg  69.8  40.8  41.7  45.9  90.1  88.3  24.9  70.3\n",
       "Asn  35.7  38.8  38.1  38.0  46.0  37.7  29.7  48.9"
      ]
     },
     "metadata": {},
     "output_type": "display_data"
    }
   ],
   "source": [
    "cancer<-data[grep(pattern=\"Cancer\",data[,1]),]\n",
    "cancer<-rbind(data[1,],cancer)\n",
    "normal<-data[grep(pattern=\"Normal\",data[,1]),]\n",
    "normal<-rbind(data[1,],normal)\n",
    "#cancer[1:3,]\n",
    "#normal[1:3,]\n",
    "\n",
    "normal<-t(normal)\n",
    "imputeNO<-lapply(2:(dim(normal)[1]),function(x){\n",
    "    half_LOD=0.5*as.numeric(as.character(normal[x,1]))\n",
    "    #half_LOD\n",
    "    feature<-normal[x,]\n",
    "    feature[is.na(feature)]<-half_LOD\n",
    "    #feature\n",
    "    return(feature)\n",
    "      } )\n",
    "\n",
    "cancer<-t(cancer)\n",
    "imputeCAN<-lapply(2:(dim(cancer)[1]),function(x){\n",
    "    half_LOD=0.5*as.numeric(as.character(cancer[x,1]))\n",
    "    #half_LOD\n",
    "    feature<-cancer[x,]\n",
    "    feature[is.na(feature)]<-half_LOD\n",
    "    #feature\n",
    "    return(feature)\n",
    "      } )\n",
    "\n",
    "normal<-as.data.frame(do.call(rbind,imputeNO),stringsAsFactors = F)\n",
    "cancer<-as.data.frame(do.call(rbind,imputeCAN),stringsAsFactors = F)\n",
    "row.names(normal)<-colnames(data)[-1]\n",
    "row.names(cancer)<-colnames(data)[-1]\n",
    "#normal[1:3,]\n",
    "#cancer[1:3,]\n",
    "normal=as.data.frame(lapply(normal,as.numeric))\n",
    "cancer=as.data.frame(lapply(cancer,as.numeric))\n",
    "#normal<-t(normal[,-1])\n",
    "#cancer<-t(cancer[,-1])\n",
    "row.names(normal)<-colnames(data)[-1]\n",
    "row.names(cancer)<-colnames(data)[-1]\n",
    "normal[1:3,]\n",
    "cancer[1:3,]\n"
   ]
  },
  {
   "cell_type": "markdown",
   "metadata": {},
   "source": [
    "### remove outlier\n"
   ]
  },
  {
   "cell_type": "markdown",
   "metadata": {},
   "source": [
    "##### feature analysis"
   ]
  },
  {
   "cell_type": "code",
   "execution_count": 683,
   "metadata": {},
   "outputs": [
    {
     "data": {
      "text/html": [
       "<table>\n",
       "<caption>A data.frame: 10 × 6</caption>\n",
       "<thead>\n",
       "\t<tr><th></th><th scope=col>name</th><th scope=col>mean</th><th scope=col>sd</th><th scope=col>max</th><th scope=col>min</th><th scope=col>note</th></tr>\n",
       "\t<tr><th></th><th scope=col>&lt;fct&gt;</th><th scope=col>&lt;fct&gt;</th><th scope=col>&lt;fct&gt;</th><th scope=col>&lt;fct&gt;</th><th scope=col>&lt;fct&gt;</th><th scope=col>&lt;chr&gt;</th></tr>\n",
       "</thead>\n",
       "<tbody>\n",
       "\t<tr><th scope=row>1</th><td>Gln</td><td>622.730769230769</td><td>97.0523587537178</td><td>846</td><td>282 </td><td>REMOVE</td></tr>\n",
       "\t<tr><th scope=row>2</th><td>Ala</td><td>346.025641025641</td><td>125.001088240351</td><td>703</td><td>0   </td><td>REMOVE</td></tr>\n",
       "\t<tr><th scope=row>3</th><td>Gly</td><td>243.371794871795</td><td>59.2226941790688</td><td>405</td><td>115 </td><td>PASS  </td></tr>\n",
       "\t<tr><th scope=row>4</th><td>Val</td><td>222.953846153846</td><td>64.5223905409501</td><td>387</td><td>85.5</td><td>PASS  </td></tr>\n",
       "\t<tr><th scope=row>5</th><td>Lys</td><td>196.770512820513</td><td>60.4921699537025</td><td>331</td><td>89.1</td><td>PASS  </td></tr>\n",
       "\t<tr><th scope=row>6</th><td>Pro</td><td>186.365384615385</td><td>91.7123903976314</td><td>584</td><td>66.5</td><td>PASS  </td></tr>\n",
       "\t<tr><th scope=row>7</th><td>Leu</td><td>142.061538461538</td><td>47.8484844330253</td><td>292</td><td>45.2</td><td>PASS  </td></tr>\n",
       "\t<tr><th scope=row>8</th><td>Ser</td><td>122.661538461538</td><td>26.680900463636 </td><td>183</td><td>55  </td><td>PASS  </td></tr>\n",
       "\t<tr><th scope=row>9</th><td>Thr</td><td>119.364102564103</td><td>36.5777981570148</td><td>213</td><td>0   </td><td>PASS  </td></tr>\n",
       "\t<tr><th scope=row>10</th><td>Orn</td><td>93.3730769230769</td><td>58.7625856606606</td><td>456</td><td>31.4</td><td>PASS  </td></tr>\n",
       "</tbody>\n",
       "</table>\n"
      ],
      "text/latex": [
       "A data.frame: 10 × 6\n",
       "\\begin{tabular}{r|llllll}\n",
       "  & name & mean & sd & max & min & note\\\\\n",
       "  & <fct> & <fct> & <fct> & <fct> & <fct> & <chr>\\\\\n",
       "\\hline\n",
       "\t1 & Gln & 622.730769230769 & 97.0523587537178 & 846 & 282  & REMOVE\\\\\n",
       "\t2 & Ala & 346.025641025641 & 125.001088240351 & 703 & 0    & REMOVE\\\\\n",
       "\t3 & Gly & 243.371794871795 & 59.2226941790688 & 405 & 115  & PASS  \\\\\n",
       "\t4 & Val & 222.953846153846 & 64.5223905409501 & 387 & 85.5 & PASS  \\\\\n",
       "\t5 & Lys & 196.770512820513 & 60.4921699537025 & 331 & 89.1 & PASS  \\\\\n",
       "\t6 & Pro & 186.365384615385 & 91.7123903976314 & 584 & 66.5 & PASS  \\\\\n",
       "\t7 & Leu & 142.061538461538 & 47.8484844330253 & 292 & 45.2 & PASS  \\\\\n",
       "\t8 & Ser & 122.661538461538 & 26.680900463636  & 183 & 55   & PASS  \\\\\n",
       "\t9 & Thr & 119.364102564103 & 36.5777981570148 & 213 & 0    & PASS  \\\\\n",
       "\t10 & Orn & 93.3730769230769 & 58.7625856606606 & 456 & 31.4 & PASS  \\\\\n",
       "\\end{tabular}\n"
      ],
      "text/markdown": [
       "\n",
       "A data.frame: 10 × 6\n",
       "\n",
       "| <!--/--> | name &lt;fct&gt; | mean &lt;fct&gt; | sd &lt;fct&gt; | max &lt;fct&gt; | min &lt;fct&gt; | note &lt;chr&gt; |\n",
       "|---|---|---|---|---|---|---|\n",
       "| 1 | Gln | 622.730769230769 | 97.0523587537178 | 846 | 282  | REMOVE |\n",
       "| 2 | Ala | 346.025641025641 | 125.001088240351 | 703 | 0    | REMOVE |\n",
       "| 3 | Gly | 243.371794871795 | 59.2226941790688 | 405 | 115  | PASS   |\n",
       "| 4 | Val | 222.953846153846 | 64.5223905409501 | 387 | 85.5 | PASS   |\n",
       "| 5 | Lys | 196.770512820513 | 60.4921699537025 | 331 | 89.1 | PASS   |\n",
       "| 6 | Pro | 186.365384615385 | 91.7123903976314 | 584 | 66.5 | PASS   |\n",
       "| 7 | Leu | 142.061538461538 | 47.8484844330253 | 292 | 45.2 | PASS   |\n",
       "| 8 | Ser | 122.661538461538 | 26.680900463636  | 183 | 55   | PASS   |\n",
       "| 9 | Thr | 119.364102564103 | 36.5777981570148 | 213 | 0    | PASS   |\n",
       "| 10 | Orn | 93.3730769230769 | 58.7625856606606 | 456 | 31.4 | PASS   |\n",
       "\n"
      ],
      "text/plain": [
       "   name mean             sd               max min  note  \n",
       "1  Gln  622.730769230769 97.0523587537178 846 282  REMOVE\n",
       "2  Ala  346.025641025641 125.001088240351 703 0    REMOVE\n",
       "3  Gly  243.371794871795 59.2226941790688 405 115  PASS  \n",
       "4  Val  222.953846153846 64.5223905409501 387 85.5 PASS  \n",
       "5  Lys  196.770512820513 60.4921699537025 331 89.1 PASS  \n",
       "6  Pro  186.365384615385 91.7123903976314 584 66.5 PASS  \n",
       "7  Leu  142.061538461538 47.8484844330253 292 45.2 PASS  \n",
       "8  Ser  122.661538461538 26.680900463636  183 55   PASS  \n",
       "9  Thr  119.364102564103 36.5777981570148 213 0    PASS  \n",
       "10 Orn  93.3730769230769 58.7625856606606 456 31.4 PASS  "
      ]
     },
     "metadata": {},
     "output_type": "display_data"
    },
    {
     "data": {
      "text/html": [
       "<style>\n",
       ".list-inline {list-style: none; margin:0; padding: 0}\n",
       ".list-inline>li {display: inline-block}\n",
       ".list-inline>li:not(:last-child)::after {content: \"\\00b7\"; padding: 0 .5ex}\n",
       "</style>\n",
       "<ol class=list-inline><li>Gln</li><li>Ala</li></ol>\n",
       "\n",
       "<details>\n",
       "\t<summary style=display:list-item;cursor:pointer>\n",
       "\t\t<strong>Levels</strong>:\n",
       "\t</summary>\n",
       "\t<style>\n",
       "\t.list-inline {list-style: none; margin:0; padding: 0}\n",
       "\t.list-inline>li {display: inline-block}\n",
       "\t.list-inline>li:not(:last-child)::after {content: \"\\00b7\"; padding: 0 .5ex}\n",
       "\t</style>\n",
       "\t<ol class=list-inline><li>'ADMA'</li><li>'Ala'</li><li>'Arg'</li><li>'Asn'</li><li>'Asp'</li><li>'Cit'</li><li>'Creatinine'</li><li>'Gln'</li><li>'Glu'</li><li>'Gly'</li><li>'His'</li><li>'Ile'</li><li>'Kynurenine'</li><li>'Leu'</li><li>'Lys'</li><li>'Met'</li><li>'Orn'</li><li>'Phe'</li><li>'Pro'</li><li>'Sarcosine'</li><li>'SDMA'</li><li>'Ser'</li><li>'t4-OH-Pro'</li><li>'Taurine'</li><li>'Thr'</li><li>'Trp'</li><li>'Tyr'</li><li>'Val'</li></ol>\n",
       "</details>"
      ],
      "text/latex": [
       "\\begin{enumerate*}\n",
       "\\item Gln\n",
       "\\item Ala\n",
       "\\end{enumerate*}\n",
       "\n",
       "\\emph{Levels}: \\begin{enumerate*}\n",
       "\\item 'ADMA'\n",
       "\\item 'Ala'\n",
       "\\item 'Arg'\n",
       "\\item 'Asn'\n",
       "\\item 'Asp'\n",
       "\\item 'Cit'\n",
       "\\item 'Creatinine'\n",
       "\\item 'Gln'\n",
       "\\item 'Glu'\n",
       "\\item 'Gly'\n",
       "\\item 'His'\n",
       "\\item 'Ile'\n",
       "\\item 'Kynurenine'\n",
       "\\item 'Leu'\n",
       "\\item 'Lys'\n",
       "\\item 'Met'\n",
       "\\item 'Orn'\n",
       "\\item 'Phe'\n",
       "\\item 'Pro'\n",
       "\\item 'Sarcosine'\n",
       "\\item 'SDMA'\n",
       "\\item 'Ser'\n",
       "\\item 't4-OH-Pro'\n",
       "\\item 'Taurine'\n",
       "\\item 'Thr'\n",
       "\\item 'Trp'\n",
       "\\item 'Tyr'\n",
       "\\item 'Val'\n",
       "\\end{enumerate*}\n"
      ],
      "text/markdown": [
       "1. Gln\n",
       "2. Ala\n",
       "\n",
       "\n",
       "\n",
       "**Levels**: 1. 'ADMA'\n",
       "2. 'Ala'\n",
       "3. 'Arg'\n",
       "4. 'Asn'\n",
       "5. 'Asp'\n",
       "6. 'Cit'\n",
       "7. 'Creatinine'\n",
       "8. 'Gln'\n",
       "9. 'Glu'\n",
       "10. 'Gly'\n",
       "11. 'His'\n",
       "12. 'Ile'\n",
       "13. 'Kynurenine'\n",
       "14. 'Leu'\n",
       "15. 'Lys'\n",
       "16. 'Met'\n",
       "17. 'Orn'\n",
       "18. 'Phe'\n",
       "19. 'Pro'\n",
       "20. 'Sarcosine'\n",
       "21. 'SDMA'\n",
       "22. 'Ser'\n",
       "23. 't4-OH-Pro'\n",
       "24. 'Taurine'\n",
       "25. 'Thr'\n",
       "26. 'Trp'\n",
       "27. 'Tyr'\n",
       "28. 'Val'\n",
       "\n",
       "\n"
      ],
      "text/plain": [
       "[1] Gln Ala\n",
       "28 Levels: ADMA Ala Arg Asn Asp Cit Creatinine Gln Glu Gly His ... Val"
      ]
     },
     "metadata": {},
     "output_type": "display_data"
    },
    {
     "data": {
      "image/png": "[encoded data removed]",
      "text/plain": [
       "Plot with title “Histogram of as.numeric(as.character(d[, 2]))”"
      ]
     },
     "metadata": {
      "image/png": {
       "height": 420,
       "width": 420
      }
     },
     "output_type": "display_data"
    }
   ],
   "source": [
    "library(magrittr) # needs to be run every time you start R and want to use %>%\n",
    "library(dplyr)    # alternatively, this also loads %>%\n",
    "#check distribution of features\n",
    "dataImpute<-cbind(normal[,-1],cancer[,-1])\n",
    "#data_impute\n",
    "\n",
    "\n",
    "#devide the number of features\n",
    "cal<-lapply(1:(dim(dataImpute)[1]),function(x){\n",
    "    name<-row.names(dataImpute[x,])\n",
    "    sd<-sd(dataImpute[x,])\n",
    "    max<-max(dataImpute[x,])\n",
    "    min<-min(dataImpute[x,])\n",
    "    mean<-sum(dataImpute[x,])/dim(dataImpute)[2]\n",
    "    re<-c(name,mean,sd,max,min)\n",
    "    return(re)\n",
    "  } )\n",
    "d<-do.call(rbind, cal)\n",
    "d<-as.data.frame(d,StringasFactor=False)\n",
    "colnames(d)<-c(\"name\",\"mean\",\"sd\",\"max\",\"min\")\n",
    "d<-d[order(as.numeric(as.character(d[,2])),decreasing = T),]\n",
    "d<-d%>%mutate(note = ifelse(as.numeric(as.character(d[,2]))>300,\"REMOVE\",ifelse(as.numeric(as.character(d[,3]))>0,\"PASS\",\"LowSD\")))\n",
    "d[1:10,]\n",
    "d[d[,6]==\"REMOVE\",]$name\n",
    "#d[d[,\"note\"]==\"LowSD\",]\n",
    "\n",
    "hist(as.numeric(as.character(d[,2])),breaks=500,xlim=c(0,500))"
   ]
  },
  {
   "cell_type": "markdown",
   "metadata": {},
   "source": [
    "###### remove features"
   ]
  },
  {
   "cell_type": "code",
   "execution_count": 605,
   "metadata": {},
   "outputs": [
    {
     "data": {
      "text/html": [
       "<style>\n",
       ".list-inline {list-style: none; margin:0; padding: 0}\n",
       ".list-inline>li {display: inline-block}\n",
       ".list-inline>li:not(:last-child)::after {content: \"\\00b7\"; padding: 0 .5ex}\n",
       "</style>\n",
       "<ol class=list-inline><li>79</li><li>29</li></ol>\n"
      ],
      "text/latex": [
       "\\begin{enumerate*}\n",
       "\\item 79\n",
       "\\item 29\n",
       "\\end{enumerate*}\n"
      ],
      "text/markdown": [
       "1. 79\n",
       "2. 29\n",
       "\n",
       "\n"
      ],
      "text/plain": [
       "[1] 79 29"
      ]
     },
     "metadata": {},
     "output_type": "display_data"
    },
    {
     "data": {
      "text/html": [
       "<style>\n",
       ".list-inline {list-style: none; margin:0; padding: 0}\n",
       ".list-inline>li {display: inline-block}\n",
       ".list-inline>li:not(:last-child)::after {content: \"\\00b7\"; padding: 0 .5ex}\n",
       "</style>\n",
       "<ol class=list-inline><li>79</li><li>27</li></ol>\n"
      ],
      "text/latex": [
       "\\begin{enumerate*}\n",
       "\\item 79\n",
       "\\item 27\n",
       "\\end{enumerate*}\n"
      ],
      "text/markdown": [
       "1. 79\n",
       "2. 27\n",
       "\n",
       "\n"
      ],
      "text/plain": [
       "[1] 79 27"
      ]
     },
     "metadata": {},
     "output_type": "display_data"
    }
   ],
   "source": [
    "#colnames(data)\n",
    "dim(data)\n",
    "#data_rm<-data[,-which(colnames(data)%in%c(\"H1\",\"PC aa C34:2\",\"PC aa C36:2\",\"PC aa C34:1\",\"PC aa C36:4\"))]\n",
    "data_rm<-data[,-which(colnames(data)%in%c(\"Gln\",\"Ala\"))]\n",
    "#data_rm<-data[,-which(colnames(data)%in%c(\"H1\",\"PC aa C34:2\"))]\n",
    "dim(data_rm)\n",
    "#colnames(data_rm)"
   ]
  },
  {
   "cell_type": "markdown",
   "metadata": {},
   "source": [
    "##### remove samples"
   ]
  },
  {
   "cell_type": "code",
   "execution_count": 280,
   "metadata": {},
   "outputs": [
    {
     "data": {
      "text/html": [
       "<style>\n",
       ".list-inline {list-style: none; margin:0; padding: 0}\n",
       ".list-inline>li {display: inline-block}\n",
       ".list-inline>li:not(:last-child)::after {content: \"\\00b7\"; padding: 0 .5ex}\n",
       "</style>\n",
       "<ol class=list-inline><li>79</li><li>22</li></ol>\n"
      ],
      "text/latex": [
       "\\begin{enumerate*}\n",
       "\\item 79\n",
       "\\item 22\n",
       "\\end{enumerate*}\n"
      ],
      "text/markdown": [
       "1. 79\n",
       "2. 22\n",
       "\n",
       "\n"
      ],
      "text/plain": [
       "[1] 79 22"
      ]
     },
     "metadata": {},
     "output_type": "display_data"
    },
    {
     "data": {
      "text/html": [
       "<style>\n",
       ".list-inline {list-style: none; margin:0; padding: 0}\n",
       ".list-inline>li {display: inline-block}\n",
       ".list-inline>li:not(:last-child)::after {content: \"\\00b7\"; padding: 0 .5ex}\n",
       "</style>\n",
       "<ol class=list-inline><li>78</li><li>22</li></ol>\n"
      ],
      "text/latex": [
       "\\begin{enumerate*}\n",
       "\\item 78\n",
       "\\item 22\n",
       "\\end{enumerate*}\n"
      ],
      "text/markdown": [
       "1. 78\n",
       "2. 22\n",
       "\n",
       "\n"
      ],
      "text/plain": [
       "[1] 78 22"
      ]
     },
     "metadata": {},
     "output_type": "display_data"
    },
    {
     "data": {
      "text/html": [
       "<style>\n",
       ".list-inline {list-style: none; margin:0; padding: 0}\n",
       ".list-inline>li {display: inline-block}\n",
       ".list-inline>li:not(:last-child)::after {content: \"\\00b7\"; padding: 0 .5ex}\n",
       "</style>\n",
       "<ol class=list-inline><li>'LOD..calc..'</li><li>'GX007'</li><li>'GX009'</li><li>'GX013'</li><li>'JC.repeat.01'</li><li>'JC.repeat.02'</li><li>'JC.repeat.03'</li><li>'JC40002PL.02'</li><li>'JC40003PL.02'</li><li>'JC40004PL.02'</li><li>'JC40005PL.02'</li><li>'JC40006PL.02'</li><li>'JC40008PL.02'</li><li>'JC40009PL.02'</li><li>'JC40010PL.02'</li><li>'JC40011PL.02'</li><li>'JC40012PL.02'</li><li>'JC40013PL.02'</li><li>'JC40014PL.02'</li><li>'JC50006PL.02'</li><li>'JC50007PL.02'</li><li>'JC50008PL.02'</li><li>'JC50009PL.02'</li><li>'JC50010PL.02'</li><li>'JC50011PL.02'</li><li>'JC50012PL.02'</li><li>'JC50013PL.02'</li><li>'JC50014PL.02'</li><li>'JC50015PL.02'</li><li>'JC50016PL.02'</li><li>'JC50017PL.02'</li><li>'JC50018PL.02'</li><li>'JC50019PL.02'</li><li>'JC50020PL.02'</li><li>'JC50021PL.02'</li><li>'JC50022PL.02'</li><li>'JC50023PL.02'</li><li>'JC50024PL.02'</li><li>'JC50025PL.02'</li><li>'JC50026PL.02'</li><li>'JC50027PL.02'</li><li>'JC50028PL.02'</li><li>'JC50029PL.02'</li><li>'SY682'</li><li>'SY687'</li><li>'SY688'</li><li>'SY699'</li><li>'SY701'</li><li>'SY702'</li><li>'SY703'</li><li>'SY704'</li><li>'SY712'</li><li>'SY714'</li><li>'SY718'</li><li>'SY727'</li><li>'SY730'</li><li>'SY737'</li><li>'SY738'</li><li>'SY743'</li><li>'SY745'</li><li>'SY748'</li><li>'SY749'</li><li>'SY759'</li><li>'SY761'</li><li>'SY766'</li><li>'SY775'</li><li>'SY776'</li><li>'SY780'</li><li>'SY783'</li><li>'SY787'</li><li>'SY789'</li><li>'SY790'</li><li>'SY801'</li><li>'SY803'</li><li>'SY804'</li><li>'SY805'</li><li>'SY806'</li><li>'SY807'</li></ol>\n"
      ],
      "text/latex": [
       "\\begin{enumerate*}\n",
       "\\item 'LOD..calc..'\n",
       "\\item 'GX007'\n",
       "\\item 'GX009'\n",
       "\\item 'GX013'\n",
       "\\item 'JC.repeat.01'\n",
       "\\item 'JC.repeat.02'\n",
       "\\item 'JC.repeat.03'\n",
       "\\item 'JC40002PL.02'\n",
       "\\item 'JC40003PL.02'\n",
       "\\item 'JC40004PL.02'\n",
       "\\item 'JC40005PL.02'\n",
       "\\item 'JC40006PL.02'\n",
       "\\item 'JC40008PL.02'\n",
       "\\item 'JC40009PL.02'\n",
       "\\item 'JC40010PL.02'\n",
       "\\item 'JC40011PL.02'\n",
       "\\item 'JC40012PL.02'\n",
       "\\item 'JC40013PL.02'\n",
       "\\item 'JC40014PL.02'\n",
       "\\item 'JC50006PL.02'\n",
       "\\item 'JC50007PL.02'\n",
       "\\item 'JC50008PL.02'\n",
       "\\item 'JC50009PL.02'\n",
       "\\item 'JC50010PL.02'\n",
       "\\item 'JC50011PL.02'\n",
       "\\item 'JC50012PL.02'\n",
       "\\item 'JC50013PL.02'\n",
       "\\item 'JC50014PL.02'\n",
       "\\item 'JC50015PL.02'\n",
       "\\item 'JC50016PL.02'\n",
       "\\item 'JC50017PL.02'\n",
       "\\item 'JC50018PL.02'\n",
       "\\item 'JC50019PL.02'\n",
       "\\item 'JC50020PL.02'\n",
       "\\item 'JC50021PL.02'\n",
       "\\item 'JC50022PL.02'\n",
       "\\item 'JC50023PL.02'\n",
       "\\item 'JC50024PL.02'\n",
       "\\item 'JC50025PL.02'\n",
       "\\item 'JC50026PL.02'\n",
       "\\item 'JC50027PL.02'\n",
       "\\item 'JC50028PL.02'\n",
       "\\item 'JC50029PL.02'\n",
       "\\item 'SY682'\n",
       "\\item 'SY687'\n",
       "\\item 'SY688'\n",
       "\\item 'SY699'\n",
       "\\item 'SY701'\n",
       "\\item 'SY702'\n",
       "\\item 'SY703'\n",
       "\\item 'SY704'\n",
       "\\item 'SY712'\n",
       "\\item 'SY714'\n",
       "\\item 'SY718'\n",
       "\\item 'SY727'\n",
       "\\item 'SY730'\n",
       "\\item 'SY737'\n",
       "\\item 'SY738'\n",
       "\\item 'SY743'\n",
       "\\item 'SY745'\n",
       "\\item 'SY748'\n",
       "\\item 'SY749'\n",
       "\\item 'SY759'\n",
       "\\item 'SY761'\n",
       "\\item 'SY766'\n",
       "\\item 'SY775'\n",
       "\\item 'SY776'\n",
       "\\item 'SY780'\n",
       "\\item 'SY783'\n",
       "\\item 'SY787'\n",
       "\\item 'SY789'\n",
       "\\item 'SY790'\n",
       "\\item 'SY801'\n",
       "\\item 'SY803'\n",
       "\\item 'SY804'\n",
       "\\item 'SY805'\n",
       "\\item 'SY806'\n",
       "\\item 'SY807'\n",
       "\\end{enumerate*}\n"
      ],
      "text/markdown": [
       "1. 'LOD..calc..'\n",
       "2. 'GX007'\n",
       "3. 'GX009'\n",
       "4. 'GX013'\n",
       "5. 'JC.repeat.01'\n",
       "6. 'JC.repeat.02'\n",
       "7. 'JC.repeat.03'\n",
       "8. 'JC40002PL.02'\n",
       "9. 'JC40003PL.02'\n",
       "10. 'JC40004PL.02'\n",
       "11. 'JC40005PL.02'\n",
       "12. 'JC40006PL.02'\n",
       "13. 'JC40008PL.02'\n",
       "14. 'JC40009PL.02'\n",
       "15. 'JC40010PL.02'\n",
       "16. 'JC40011PL.02'\n",
       "17. 'JC40012PL.02'\n",
       "18. 'JC40013PL.02'\n",
       "19. 'JC40014PL.02'\n",
       "20. 'JC50006PL.02'\n",
       "21. 'JC50007PL.02'\n",
       "22. 'JC50008PL.02'\n",
       "23. 'JC50009PL.02'\n",
       "24. 'JC50010PL.02'\n",
       "25. 'JC50011PL.02'\n",
       "26. 'JC50012PL.02'\n",
       "27. 'JC50013PL.02'\n",
       "28. 'JC50014PL.02'\n",
       "29. 'JC50015PL.02'\n",
       "30. 'JC50016PL.02'\n",
       "31. 'JC50017PL.02'\n",
       "32. 'JC50018PL.02'\n",
       "33. 'JC50019PL.02'\n",
       "34. 'JC50020PL.02'\n",
       "35. 'JC50021PL.02'\n",
       "36. 'JC50022PL.02'\n",
       "37. 'JC50023PL.02'\n",
       "38. 'JC50024PL.02'\n",
       "39. 'JC50025PL.02'\n",
       "40. 'JC50026PL.02'\n",
       "41. 'JC50027PL.02'\n",
       "42. 'JC50028PL.02'\n",
       "43. 'JC50029PL.02'\n",
       "44. 'SY682'\n",
       "45. 'SY687'\n",
       "46. 'SY688'\n",
       "47. 'SY699'\n",
       "48. 'SY701'\n",
       "49. 'SY702'\n",
       "50. 'SY703'\n",
       "51. 'SY704'\n",
       "52. 'SY712'\n",
       "53. 'SY714'\n",
       "54. 'SY718'\n",
       "55. 'SY727'\n",
       "56. 'SY730'\n",
       "57. 'SY737'\n",
       "58. 'SY738'\n",
       "59. 'SY743'\n",
       "60. 'SY745'\n",
       "61. 'SY748'\n",
       "62. 'SY749'\n",
       "63. 'SY759'\n",
       "64. 'SY761'\n",
       "65. 'SY766'\n",
       "66. 'SY775'\n",
       "67. 'SY776'\n",
       "68. 'SY780'\n",
       "69. 'SY783'\n",
       "70. 'SY787'\n",
       "71. 'SY789'\n",
       "72. 'SY790'\n",
       "73. 'SY801'\n",
       "74. 'SY803'\n",
       "75. 'SY804'\n",
       "76. 'SY805'\n",
       "77. 'SY806'\n",
       "78. 'SY807'\n",
       "\n",
       "\n"
      ],
      "text/plain": [
       " [1] \"LOD..calc..\"  \"GX007\"        \"GX009\"        \"GX013\"        \"JC.repeat.01\"\n",
       " [6] \"JC.repeat.02\" \"JC.repeat.03\" \"JC40002PL.02\" \"JC40003PL.02\" \"JC40004PL.02\"\n",
       "[11] \"JC40005PL.02\" \"JC40006PL.02\" \"JC40008PL.02\" \"JC40009PL.02\" \"JC40010PL.02\"\n",
       "[16] \"JC40011PL.02\" \"JC40012PL.02\" \"JC40013PL.02\" \"JC40014PL.02\" \"JC50006PL.02\"\n",
       "[21] \"JC50007PL.02\" \"JC50008PL.02\" \"JC50009PL.02\" \"JC50010PL.02\" \"JC50011PL.02\"\n",
       "[26] \"JC50012PL.02\" \"JC50013PL.02\" \"JC50014PL.02\" \"JC50015PL.02\" \"JC50016PL.02\"\n",
       "[31] \"JC50017PL.02\" \"JC50018PL.02\" \"JC50019PL.02\" \"JC50020PL.02\" \"JC50021PL.02\"\n",
       "[36] \"JC50022PL.02\" \"JC50023PL.02\" \"JC50024PL.02\" \"JC50025PL.02\" \"JC50026PL.02\"\n",
       "[41] \"JC50027PL.02\" \"JC50028PL.02\" \"JC50029PL.02\" \"SY682\"        \"SY687\"       \n",
       "[46] \"SY688\"        \"SY699\"        \"SY701\"        \"SY702\"        \"SY703\"       \n",
       "[51] \"SY704\"        \"SY712\"        \"SY714\"        \"SY718\"        \"SY727\"       \n",
       "[56] \"SY730\"        \"SY737\"        \"SY738\"        \"SY743\"        \"SY745\"       \n",
       "[61] \"SY748\"        \"SY749\"        \"SY759\"        \"SY761\"        \"SY766\"       \n",
       "[66] \"SY775\"        \"SY776\"        \"SY780\"        \"SY783\"        \"SY787\"       \n",
       "[71] \"SY789\"        \"SY790\"        \"SY801\"        \"SY803\"        \"SY804\"       \n",
       "[76] \"SY805\"        \"SY806\"        \"SY807\"       "
      ]
     },
     "metadata": {},
     "output_type": "display_data"
    }
   ],
   "source": [
    "data<-data_rm\n",
    "#rownames(data)\n",
    "dim(data)\n",
    "data_rm<-data[-which(rownames(data)%in%\"SY747\"),]\n",
    "dim(data_rm)\n",
    "rownames(data_rm)"
   ]
  },
  {
   "cell_type": "markdown",
   "metadata": {},
   "source": [
    "### sample analysis"
   ]
  },
  {
   "cell_type": "code",
   "execution_count": 8,
   "metadata": {
    "scrolled": false
   },
   "outputs": [
    {
     "data": {
      "text/html": [
       "39"
      ],
      "text/latex": [
       "39"
      ],
      "text/markdown": [
       "39"
      ],
      "text/plain": [
       "[1] 39"
      ]
     },
     "metadata": {},
     "output_type": "display_data"
    },
    {
     "data": {
      "text/html": [
       "39"
      ],
      "text/latex": [
       "39"
      ],
      "text/markdown": [
       "39"
      ],
      "text/plain": [
       "[1] 39"
      ]
     },
     "metadata": {},
     "output_type": "display_data"
    },
    {
     "data": {
      "text/html": [
       "562.207469088009"
      ],
      "text/latex": [
       "562.207469088009"
      ],
      "text/markdown": [
       "562.207469088009"
      ],
      "text/plain": [
       "[1] 562.2075"
      ]
     },
     "metadata": {},
     "output_type": "display_data"
    },
    {
     "data": {
      "text/html": [
       "563.20592656476"
      ],
      "text/latex": [
       "563.20592656476"
      ],
      "text/markdown": [
       "563.20592656476"
      ],
      "text/plain": [
       "[1] 563.2059"
      ]
     },
     "metadata": {},
     "output_type": "display_data"
    },
    {
     "data": {
      "text/html": [
       "3162.248"
      ],
      "text/latex": [
       "3162.248"
      ],
      "text/markdown": [
       "3162.248"
      ],
      "text/plain": [
       "[1] 3162.248"
      ]
     },
     "metadata": {},
     "output_type": "display_data"
    },
    {
     "data": {
      "text/html": [
       "2785.118"
      ],
      "text/latex": [
       "2785.118"
      ],
      "text/markdown": [
       "2785.118"
      ],
      "text/plain": [
       "[1] 2785.118"
      ]
     },
     "metadata": {},
     "output_type": "display_data"
    },
    {
     "data": {
      "text/html": [
       "4742.394"
      ],
      "text/latex": [
       "4742.394"
      ],
      "text/markdown": [
       "4742.394"
      ],
      "text/plain": [
       "[1] 4742.394"
      ]
     },
     "metadata": {},
     "output_type": "display_data"
    },
    {
     "data": {
      "text/html": [
       "2093.167"
      ],
      "text/latex": [
       "2093.167"
      ],
      "text/markdown": [
       "2093.167"
      ],
      "text/plain": [
       "[1] 2093.167"
      ]
     },
     "metadata": {},
     "output_type": "display_data"
    },
    {
     "data": {
      "text/html": [
       "4183.557"
      ],
      "text/latex": [
       "4183.557"
      ],
      "text/markdown": [
       "4183.557"
      ],
      "text/plain": [
       "[1] 4183.557"
      ]
     },
     "metadata": {},
     "output_type": "display_data"
    },
    {
     "data": {
      "text/html": [
       "1350.706"
      ],
      "text/latex": [
       "1350.706"
      ],
      "text/markdown": [
       "1350.706"
      ],
      "text/plain": [
       "[1] 1350.706"
      ]
     },
     "metadata": {},
     "output_type": "display_data"
    },
    {
     "data": {
      "image/png": "[encoded data removed]",
      "text/plain": [
       "plot without title"
      ]
     },
     "metadata": {
      "image/png": {
       "height": 420,
       "width": 420
      }
     },
     "output_type": "display_data"
    },
    {
     "data": {
      "text/html": [
       "<table>\n",
       "<caption>A data.frame: 2 × 2</caption>\n",
       "<thead>\n",
       "\t<tr><th></th><th scope=col>mean</th><th scope=col>group</th></tr>\n",
       "\t<tr><th></th><th scope=col>&lt;dbl&gt;</th><th scope=col>&lt;chr&gt;</th></tr>\n",
       "</thead>\n",
       "<tbody>\n",
       "\t<tr><th scope=row>GX007</th><td>126.8211</td><td>cancer</td></tr>\n",
       "\t<tr><th scope=row>GX009</th><td>117.0511</td><td>cancer</td></tr>\n",
       "</tbody>\n",
       "</table>\n"
      ],
      "text/latex": [
       "A data.frame: 2 × 2\n",
       "\\begin{tabular}{r|ll}\n",
       "  & mean & group\\\\\n",
       "  & <dbl> & <chr>\\\\\n",
       "\\hline\n",
       "\tGX007 & 126.8211 & cancer\\\\\n",
       "\tGX009 & 117.0511 & cancer\\\\\n",
       "\\end{tabular}\n"
      ],
      "text/markdown": [
       "\n",
       "A data.frame: 2 × 2\n",
       "\n",
       "| <!--/--> | mean &lt;dbl&gt; | group &lt;chr&gt; |\n",
       "|---|---|---|\n",
       "| GX007 | 126.8211 | cancer |\n",
       "| GX009 | 117.0511 | cancer |\n",
       "\n"
      ],
      "text/plain": [
       "      mean     group \n",
       "GX007 126.8211 cancer\n",
       "GX009 117.0511 cancer"
      ]
     },
     "metadata": {},
     "output_type": "display_data"
    },
    {
     "data": {
      "text/html": [
       "<style>\n",
       ".list-inline {list-style: none; margin:0; padding: 0}\n",
       ".list-inline>li {display: inline-block}\n",
       ".list-inline>li:not(:last-child)::after {content: \"\\00b7\"; padding: 0 .5ex}\n",
       "</style>\n",
       "<ol class=list-inline><li>78</li><li>2</li></ol>\n"
      ],
      "text/latex": [
       "\\begin{enumerate*}\n",
       "\\item 78\n",
       "\\item 2\n",
       "\\end{enumerate*}\n"
      ],
      "text/markdown": [
       "1. 78\n",
       "2. 2\n",
       "\n",
       "\n"
      ],
      "text/plain": [
       "[1] 78  2"
      ]
     },
     "metadata": {},
     "output_type": "display_data"
    },
    {
     "data": {
      "image/png": "[encoded data removed]",
      "text/plain": [
       "plot without title"
      ]
     },
     "metadata": {
      "image/png": {
       "height": 420,
       "width": 420
      }
     },
     "output_type": "display_data"
    },
    {
     "data": {
      "image/png": "[encoded data removed]",
      "text/plain": [
       "plot without title"
      ]
     },
     "metadata": {
      "image/png": {
       "height": 420,
       "width": 420
      }
     },
     "output_type": "display_data"
    }
   ],
   "source": [
    "#data<-data_rm\n",
    "\n",
    "cancer<-data[grep(pattern=\"Cancer\",data[,1]),]\n",
    "cancer<-rbind(data[1,],cancer)\n",
    "normal<-data[grep(pattern=\"Normal\",data[,1]),]\n",
    "normal<-rbind(data[1,],normal)\n",
    "#cancer[1:3,]\n",
    "#normal[1:3,]\n",
    "\n",
    "normal<-t(normal)\n",
    "imputeNO<-lapply(2:(dim(normal)[1]),function(x){\n",
    "    half_LOD=0.5*as.numeric(as.character(normal[x,1]))\n",
    "    #half_LOD\n",
    "    feature<-normal[x,]\n",
    "    feature[is.na(feature)]<-half_LOD\n",
    "    #feature\n",
    "    return(feature)\n",
    "      } )\n",
    "\n",
    "cancer<-t(cancer)\n",
    "imputeCAN<-lapply(2:(dim(cancer)[1]),function(x){\n",
    "    half_LOD=0.5*as.numeric(as.character(cancer[x,1]))\n",
    "    #half_LOD\n",
    "    feature<-cancer[x,]\n",
    "    feature[is.na(feature)]<-half_LOD\n",
    "    #feature\n",
    "    return(feature)\n",
    "      } )\n",
    "\n",
    "normal<-as.data.frame(do.call(rbind,imputeNO),stringsAsFactors = F)\n",
    "cancer<-as.data.frame(do.call(rbind,imputeCAN),stringsAsFactors = F)\n",
    "row.names(normal)<-colnames(data)[-1]\n",
    "row.names(cancer)<-colnames(data)[-1]\n",
    "#normal[1:3,]\n",
    "#cancer[1:3,]\n",
    "normal=as.data.frame(lapply(normal,as.numeric))\n",
    "cancer=as.data.frame(lapply(cancer,as.numeric))\n",
    "#normal<-t(normal[,-1])\n",
    "#cancer<-t(cancer[,-1])\n",
    "row.names(normal)<-colnames(data)[-1]\n",
    "row.names(cancer)<-colnames(data)[-1]\n",
    "#normal[1:3,]\n",
    "#cancer[1:3,]\n",
    "\n",
    "#statistics\n",
    "library(ggplot2)\n",
    "# calculate the hervs expressing level for each tummor sample\n",
    "cancer_con <- apply(cancer[,-1],2,sum)\n",
    "#cancer_con[1:2]\n",
    "#cancer_con\n",
    "normal_con <- apply(normal[,-1],2,sum)\n",
    "#normal_con[1:2]\n",
    "#normal_con\n",
    "\n",
    "#check sample group size\n",
    "length(normal_con)\n",
    "length(cancer_con)\n",
    "\n",
    "#Standard deviation\n",
    "sd(normal_con)\n",
    "sd(cancer_con)\n",
    "\n",
    "#Standard deviation\n",
    "median(normal_con)\n",
    "median(cancer_con)\n",
    "\n",
    "#data arrange\n",
    "max(normal_con)\n",
    "min(normal_con)\n",
    "max(cancer_con)\n",
    "min(cancer_con)\n",
    "\n",
    "plot(cancer_con,pch=15,col=\"red\",ylim=c(0,10000),bty = \"n\", xaxt = \"n\")\n",
    "par(new=TRUE)\n",
    "plot(normal_con,pch=15,col=\"blue\",,ylim=c(0,10000),bty = \"n\", xaxt = \"n\")\n",
    "legend(2,2000,c(\"cancer\",\"normal\"), col = c(\"red\",\"blue\"),pch=15, title=\"group\")\n",
    "\n",
    "#bean plot\n",
    "bean1<-as.data.frame(normal_con)\n",
    "bean1$group<-\"normal\"\n",
    "bean2<-as.data.frame(cancer_con)\n",
    "bean2$group<-\"cancer\"\n",
    "colnames(bean1)=c(\"total_concentration\",\"group\")\n",
    "colnames(bean2)=c(\"total_concentration\",\"group\")\n",
    "bean<-rbind(bean1,bean2)\n",
    "#bean[1:2,]\n",
    "#bean$group<-as.factor(bean$group)\n",
    "p<-ggplot(bean, aes(x=group, y=total_concentration, color=group)) +\n",
    "  geom_violin(trim=FALSE) +geom_boxplot(width=0.1)\n",
    "p\n",
    "\n",
    "library(ggplot2)\n",
    "# calculate the hervs expressing level for each tummor sample\n",
    "normal_median <- as.data.frame(apply(normal[,-1],2,mean))\n",
    "normal_median$group=\"normal\"\n",
    "colnames(normal_median)[1]=\"mean\"\n",
    "#normal_median[1:2,]\n",
    "cancer_median <- as.data.frame(apply(cancer[,-1],2,mean))\n",
    "cancer_median$group=\"cancer\"\n",
    "colnames(cancer_median)[1]=\"mean\"\n",
    "#cancer_median[1:2,]\n",
    "median<-rbind(cancer_median,normal_median)\n",
    "median[1:2,]\n",
    "dim(median)\n",
    "p<-ggplot(median,aes(x = mean))\n",
    "p+ geom_density(aes(color = group),size =1,alpha=3) +theme(text = element_text(size=20))+xlim(0,200)+ylim(0,0.035)"
   ]
  },
  {
   "cell_type": "code",
   "execution_count": 225,
   "metadata": {},
   "outputs": [
    {
     "data": {
      "image/png": "[encoded data removed]",
      "text/plain": [
       "plot without title"
      ]
     },
     "metadata": {
      "image/png": {
       "height": 420,
       "width": 420
      }
     },
     "output_type": "display_data"
    }
   ],
   "source": [
    "plot(normal$JC50016PL.02,ylim=c(0,20000),pch=15,bty = \"n\", xaxt = \"n\")\n",
    "par(new=TRUE)\n",
    "plot(normal$JC50023PL.02,col=\"red\",ylim=c(0,20000),pch=15,bty = \"n\", xaxt = \"n\")\n",
    "#par(new=TRUE)\n",
    "#plot(cancer$SY682,col=\"grey\",ylim=c(0,500),pch=15,bty = \"n\", xaxt = \"n\")"
   ]
  },
  {
   "cell_type": "markdown",
   "metadata": {},
   "source": [
    "### output data without normalization"
   ]
  },
  {
   "cell_type": "code",
   "execution_count": 9,
   "metadata": {},
   "outputs": [
    {
     "data": {
      "text/html": [
       "<table>\n",
       "<caption>A data.frame: 5 × 78</caption>\n",
       "<thead>\n",
       "\t<tr><th></th><th scope=col>JC.repeat.01</th><th scope=col>JC.repeat.02</th><th scope=col>JC.repeat.03</th><th scope=col>JC40002PL.02</th><th scope=col>JC40003PL.02</th><th scope=col>JC40004PL.02</th><th scope=col>JC40005PL.02</th><th scope=col>JC40006PL.02</th><th scope=col>JC40008PL.02</th><th scope=col>JC40009PL.02</th><th scope=col>⋯</th><th scope=col>SY783</th><th scope=col>SY787</th><th scope=col>SY789</th><th scope=col>SY790</th><th scope=col>SY801</th><th scope=col>SY803</th><th scope=col>SY804</th><th scope=col>SY805</th><th scope=col>SY806</th><th scope=col>SY807</th></tr>\n",
       "\t<tr><th></th><th scope=col>&lt;chr&gt;</th><th scope=col>&lt;chr&gt;</th><th scope=col>&lt;chr&gt;</th><th scope=col>&lt;chr&gt;</th><th scope=col>&lt;chr&gt;</th><th scope=col>&lt;chr&gt;</th><th scope=col>&lt;chr&gt;</th><th scope=col>&lt;chr&gt;</th><th scope=col>&lt;chr&gt;</th><th scope=col>&lt;chr&gt;</th><th scope=col>⋯</th><th scope=col>&lt;chr&gt;</th><th scope=col>&lt;chr&gt;</th><th scope=col>&lt;chr&gt;</th><th scope=col>&lt;chr&gt;</th><th scope=col>&lt;chr&gt;</th><th scope=col>&lt;chr&gt;</th><th scope=col>&lt;chr&gt;</th><th scope=col>&lt;chr&gt;</th><th scope=col>&lt;chr&gt;</th><th scope=col>&lt;chr&gt;</th></tr>\n",
       "</thead>\n",
       "<tbody>\n",
       "\t<tr><th scope=row>Group</th><td>normal</td><td>normal</td><td>normal</td><td>normal</td><td>normal</td><td>normal</td><td>normal</td><td>normal</td><td>normal</td><td>normal</td><td>⋯</td><td>cancer</td><td>cancer</td><td>cancer</td><td>cancer</td><td>cancer</td><td>cancer</td><td>cancer</td><td>cancer</td><td>cancer</td><td>cancer</td></tr>\n",
       "\t<tr><th scope=row>Ala</th><td>367   </td><td>426   </td><td>336   </td><td>0     </td><td>275   </td><td>283   </td><td>317   </td><td>342   </td><td>316   </td><td>322   </td><td>⋯</td><td>185   </td><td>291   </td><td>358   </td><td>402   </td><td>483   </td><td>352   </td><td>317   </td><td>345   </td><td>256   </td><td>437   </td></tr>\n",
       "\t<tr><th scope=row>Arg</th><td>70.7  </td><td>76    </td><td>48.4  </td><td>98.9  </td><td>62.2  </td><td>65.1  </td><td>46.2  </td><td>62.4  </td><td>42.6  </td><td>66.2  </td><td>⋯</td><td>84.8  </td><td>34.8  </td><td>69.8  </td><td>40.8  </td><td>41.7  </td><td>45.9  </td><td>90.1  </td><td>88.3  </td><td>24.9  </td><td>70.3  </td></tr>\n",
       "\t<tr><th scope=row>Asn</th><td>49.4  </td><td>49.8  </td><td>61.3  </td><td>0.75  </td><td>46.6  </td><td>44.6  </td><td>53.7  </td><td>46.8  </td><td>63.3  </td><td>51.9  </td><td>⋯</td><td>37.7  </td><td>36    </td><td>35.7  </td><td>38.8  </td><td>38.1  </td><td>38    </td><td>46    </td><td>37.7  </td><td>29.7  </td><td>48.9  </td></tr>\n",
       "\t<tr><th scope=row>Asp</th><td>3.58  </td><td>4.7   </td><td>4.63  </td><td>0     </td><td>6.29  </td><td>2.62  </td><td>4.52  </td><td>3.22  </td><td>3.86  </td><td>2.87  </td><td>⋯</td><td>4.73  </td><td>3     </td><td>3.24  </td><td>0.75  </td><td>5.03  </td><td>6.61  </td><td>3.87  </td><td>3.46  </td><td>6.71  </td><td>2.34  </td></tr>\n",
       "</tbody>\n",
       "</table>\n"
      ],
      "text/latex": [
       "A data.frame: 5 × 78\n",
       "\\begin{tabular}{r|lllllllllllllllllllll}\n",
       "  & JC.repeat.01 & JC.repeat.02 & JC.repeat.03 & JC40002PL.02 & JC40003PL.02 & JC40004PL.02 & JC40005PL.02 & JC40006PL.02 & JC40008PL.02 & JC40009PL.02 & ⋯ & SY783 & SY787 & SY789 & SY790 & SY801 & SY803 & SY804 & SY805 & SY806 & SY807\\\\\n",
       "  & <chr> & <chr> & <chr> & <chr> & <chr> & <chr> & <chr> & <chr> & <chr> & <chr> & ⋯ & <chr> & <chr> & <chr> & <chr> & <chr> & <chr> & <chr> & <chr> & <chr> & <chr>\\\\\n",
       "\\hline\n",
       "\tGroup & normal & normal & normal & normal & normal & normal & normal & normal & normal & normal & ⋯ & cancer & cancer & cancer & cancer & cancer & cancer & cancer & cancer & cancer & cancer\\\\\n",
       "\tAla & 367    & 426    & 336    & 0      & 275    & 283    & 317    & 342    & 316    & 322    & ⋯ & 185    & 291    & 358    & 402    & 483    & 352    & 317    & 345    & 256    & 437   \\\\\n",
       "\tArg & 70.7   & 76     & 48.4   & 98.9   & 62.2   & 65.1   & 46.2   & 62.4   & 42.6   & 66.2   & ⋯ & 84.8   & 34.8   & 69.8   & 40.8   & 41.7   & 45.9   & 90.1   & 88.3   & 24.9   & 70.3  \\\\\n",
       "\tAsn & 49.4   & 49.8   & 61.3   & 0.75   & 46.6   & 44.6   & 53.7   & 46.8   & 63.3   & 51.9   & ⋯ & 37.7   & 36     & 35.7   & 38.8   & 38.1   & 38     & 46     & 37.7   & 29.7   & 48.9  \\\\\n",
       "\tAsp & 3.58   & 4.7    & 4.63   & 0      & 6.29   & 2.62   & 4.52   & 3.22   & 3.86   & 2.87   & ⋯ & 4.73   & 3      & 3.24   & 0.75   & 5.03   & 6.61   & 3.87   & 3.46   & 6.71   & 2.34  \\\\\n",
       "\\end{tabular}\n"
      ],
      "text/markdown": [
       "\n",
       "A data.frame: 5 × 78\n",
       "\n",
       "| <!--/--> | JC.repeat.01 &lt;chr&gt; | JC.repeat.02 &lt;chr&gt; | JC.repeat.03 &lt;chr&gt; | JC40002PL.02 &lt;chr&gt; | JC40003PL.02 &lt;chr&gt; | JC40004PL.02 &lt;chr&gt; | JC40005PL.02 &lt;chr&gt; | JC40006PL.02 &lt;chr&gt; | JC40008PL.02 &lt;chr&gt; | JC40009PL.02 &lt;chr&gt; | ⋯ ⋯ | SY783 &lt;chr&gt; | SY787 &lt;chr&gt; | SY789 &lt;chr&gt; | SY790 &lt;chr&gt; | SY801 &lt;chr&gt; | SY803 &lt;chr&gt; | SY804 &lt;chr&gt; | SY805 &lt;chr&gt; | SY806 &lt;chr&gt; | SY807 &lt;chr&gt; |\n",
       "|---|---|---|---|---|---|---|---|---|---|---|---|---|---|---|---|---|---|---|---|---|---|\n",
       "| Group | normal | normal | normal | normal | normal | normal | normal | normal | normal | normal | ⋯ | cancer | cancer | cancer | cancer | cancer | cancer | cancer | cancer | cancer | cancer |\n",
       "| Ala | 367    | 426    | 336    | 0      | 275    | 283    | 317    | 342    | 316    | 322    | ⋯ | 185    | 291    | 358    | 402    | 483    | 352    | 317    | 345    | 256    | 437    |\n",
       "| Arg | 70.7   | 76     | 48.4   | 98.9   | 62.2   | 65.1   | 46.2   | 62.4   | 42.6   | 66.2   | ⋯ | 84.8   | 34.8   | 69.8   | 40.8   | 41.7   | 45.9   | 90.1   | 88.3   | 24.9   | 70.3   |\n",
       "| Asn | 49.4   | 49.8   | 61.3   | 0.75   | 46.6   | 44.6   | 53.7   | 46.8   | 63.3   | 51.9   | ⋯ | 37.7   | 36     | 35.7   | 38.8   | 38.1   | 38     | 46     | 37.7   | 29.7   | 48.9   |\n",
       "| Asp | 3.58   | 4.7    | 4.63   | 0      | 6.29   | 2.62   | 4.52   | 3.22   | 3.86   | 2.87   | ⋯ | 4.73   | 3      | 3.24   | 0.75   | 5.03   | 6.61   | 3.87   | 3.46   | 6.71   | 2.34   |\n",
       "\n"
      ],
      "text/plain": [
       "      JC.repeat.01 JC.repeat.02 JC.repeat.03 JC40002PL.02 JC40003PL.02\n",
       "Group normal       normal       normal       normal       normal      \n",
       "Ala   367          426          336          0            275         \n",
       "Arg   70.7         76           48.4         98.9         62.2        \n",
       "Asn   49.4         49.8         61.3         0.75         46.6        \n",
       "Asp   3.58         4.7          4.63         0            6.29        \n",
       "      JC40004PL.02 JC40005PL.02 JC40006PL.02 JC40008PL.02 JC40009PL.02 ⋯ SY783 \n",
       "Group normal       normal       normal       normal       normal       ⋯ cancer\n",
       "Ala   283          317          342          316          322          ⋯ 185   \n",
       "Arg   65.1         46.2         62.4         42.6         66.2         ⋯ 84.8  \n",
       "Asn   44.6         53.7         46.8         63.3         51.9         ⋯ 37.7  \n",
       "Asp   2.62         4.52         3.22         3.86         2.87         ⋯ 4.73  \n",
       "      SY787  SY789  SY790  SY801  SY803  SY804  SY805  SY806  SY807 \n",
       "Group cancer cancer cancer cancer cancer cancer cancer cancer cancer\n",
       "Ala   291    358    402    483    352    317    345    256    437   \n",
       "Arg   34.8   69.8   40.8   41.7   45.9   90.1   88.3   24.9   70.3  \n",
       "Asn   36     35.7   38.8   38.1   38     46     37.7   29.7   48.9  \n",
       "Asp   3      3.24   0.75   5.03   6.61   3.87   3.46   6.71   2.34  "
      ]
     },
     "metadata": {},
     "output_type": "display_data"
    }
   ],
   "source": [
    "a=dim(normal)[2]-1\n",
    "group=rep(\"normal\", times=a)\n",
    "normal_1<-rbind(group,normal)\n",
    "#normal\n",
    "a=dim(cancer)[2]-1\n",
    "group=rep(\"cancer\", times=a)\n",
    "cancer_1<-rbind(group,cancer)\n",
    "#column 1 is LOD\n",
    "dataout<-cbind(normal_1[,-1],cancer_1[,-1])\n",
    "row.names(dataout)[1]=\"Group\"\n",
    "dataout[1:5,]\n",
    "#write.csv(dataout,file=\"data/remains_data_without_nor.csv\",quote=F,row.names=T)"
   ]
  },
  {
   "cell_type": "markdown",
   "metadata": {},
   "source": [
    "### normalization"
   ]
  },
  {
   "cell_type": "code",
   "execution_count": 11,
   "metadata": {},
   "outputs": [
    {
     "data": {
      "text/html": [
       "<table>\n",
       "<caption>A matrix: 2 × 78 of type dbl</caption>\n",
       "<thead>\n",
       "\t<tr><th></th><th scope=col>JC.repeat.01</th><th scope=col>JC.repeat.02</th><th scope=col>JC.repeat.03</th><th scope=col>JC40002PL.02</th><th scope=col>JC40003PL.02</th><th scope=col>JC40004PL.02</th><th scope=col>JC40005PL.02</th><th scope=col>JC40006PL.02</th><th scope=col>JC40008PL.02</th><th scope=col>JC40009PL.02</th><th scope=col>⋯</th><th scope=col>SY783</th><th scope=col>SY787</th><th scope=col>SY789</th><th scope=col>SY790</th><th scope=col>SY801</th><th scope=col>SY803</th><th scope=col>SY804</th><th scope=col>SY805</th><th scope=col>SY806</th><th scope=col>SY807</th></tr>\n",
       "</thead>\n",
       "<tbody>\n",
       "\t<tr><th scope=row>Ala</th><td>360.69231</td><td>360.69231</td><td>360.69231</td><td>  5.059103</td><td>270.74359</td><td>222.47564</td><td>360.69231</td><td>360.69231</td><td>360.69231</td><td>360.69231</td><td>⋯</td><td>270.7436</td><td>360.69231</td><td>360.69231</td><td>360.69231</td><td>360.69231</td><td>360.69231</td><td>315.71795</td><td>360.6923</td><td>360.69231</td><td>360.69231</td></tr>\n",
       "\t<tr><th scope=row>Arg</th><td> 71.17949</td><td> 71.17949</td><td> 45.80192</td><td>112.753846</td><td> 71.17949</td><td> 66.33462</td><td> 45.80192</td><td> 66.33462</td><td> 41.15705</td><td> 62.21538</td><td>⋯</td><td>112.7538</td><td> 41.15705</td><td> 99.18333</td><td> 71.17949</td><td> 45.80192</td><td> 51.20808</td><td> 78.13462</td><td>127.7192</td><td> 35.39487</td><td> 71.17949</td></tr>\n",
       "</tbody>\n",
       "</table>\n"
      ],
      "text/latex": [
       "A matrix: 2 × 78 of type dbl\n",
       "\\begin{tabular}{r|lllllllllllllllllllll}\n",
       "  & JC.repeat.01 & JC.repeat.02 & JC.repeat.03 & JC40002PL.02 & JC40003PL.02 & JC40004PL.02 & JC40005PL.02 & JC40006PL.02 & JC40008PL.02 & JC40009PL.02 & ⋯ & SY783 & SY787 & SY789 & SY790 & SY801 & SY803 & SY804 & SY805 & SY806 & SY807\\\\\n",
       "\\hline\n",
       "\tAla & 360.69231 & 360.69231 & 360.69231 &   5.059103 & 270.74359 & 222.47564 & 360.69231 & 360.69231 & 360.69231 & 360.69231 & ⋯ & 270.7436 & 360.69231 & 360.69231 & 360.69231 & 360.69231 & 360.69231 & 315.71795 & 360.6923 & 360.69231 & 360.69231\\\\\n",
       "\tArg &  71.17949 &  71.17949 &  45.80192 & 112.753846 &  71.17949 &  66.33462 &  45.80192 &  66.33462 &  41.15705 &  62.21538 & ⋯ & 112.7538 &  41.15705 &  99.18333 &  71.17949 &  45.80192 &  51.20808 &  78.13462 & 127.7192 &  35.39487 &  71.17949\\\\\n",
       "\\end{tabular}\n"
      ],
      "text/markdown": [
       "\n",
       "A matrix: 2 × 78 of type dbl\n",
       "\n",
       "| <!--/--> | JC.repeat.01 | JC.repeat.02 | JC.repeat.03 | JC40002PL.02 | JC40003PL.02 | JC40004PL.02 | JC40005PL.02 | JC40006PL.02 | JC40008PL.02 | JC40009PL.02 | ⋯ | SY783 | SY787 | SY789 | SY790 | SY801 | SY803 | SY804 | SY805 | SY806 | SY807 |\n",
       "|---|---|---|---|---|---|---|---|---|---|---|---|---|---|---|---|---|---|---|---|---|---|\n",
       "| Ala | 360.69231 | 360.69231 | 360.69231 |   5.059103 | 270.74359 | 222.47564 | 360.69231 | 360.69231 | 360.69231 | 360.69231 | ⋯ | 270.7436 | 360.69231 | 360.69231 | 360.69231 | 360.69231 | 360.69231 | 315.71795 | 360.6923 | 360.69231 | 360.69231 |\n",
       "| Arg |  71.17949 |  71.17949 |  45.80192 | 112.753846 |  71.17949 |  66.33462 |  45.80192 |  66.33462 |  41.15705 |  62.21538 | ⋯ | 112.7538 |  41.15705 |  99.18333 |  71.17949 |  45.80192 |  51.20808 |  78.13462 | 127.7192 |  35.39487 |  71.17949 |\n",
       "\n"
      ],
      "text/plain": [
       "    JC.repeat.01 JC.repeat.02 JC.repeat.03 JC40002PL.02 JC40003PL.02\n",
       "Ala 360.69231    360.69231    360.69231      5.059103   270.74359   \n",
       "Arg  71.17949     71.17949     45.80192    112.753846    71.17949   \n",
       "    JC40004PL.02 JC40005PL.02 JC40006PL.02 JC40008PL.02 JC40009PL.02 ⋯ SY783   \n",
       "Ala 222.47564    360.69231    360.69231    360.69231    360.69231    ⋯ 270.7436\n",
       "Arg  66.33462     45.80192     66.33462     41.15705     62.21538    ⋯ 112.7538\n",
       "    SY787     SY789     SY790     SY801     SY803     SY804     SY805   \n",
       "Ala 360.69231 360.69231 360.69231 360.69231 360.69231 315.71795 360.6923\n",
       "Arg  41.15705  99.18333  71.17949  45.80192  51.20808  78.13462 127.7192\n",
       "    SY806     SY807    \n",
       "Ala 360.69231 360.69231\n",
       "Arg  35.39487  71.17949"
      ]
     },
     "metadata": {},
     "output_type": "display_data"
    }
   ],
   "source": [
    "library(dplyr)\n",
    "#cancer group and normal group should normalized together\n",
    "library(preprocessCore)\n",
    "a=as.data.frame(lapply(dataout[-1,],as.numeric))\n",
    "row.names(a)<-rownames(dataout)[-1]\n",
    "#a[1:2,]\n",
    "data_nor=normalize.quantiles(as.matrix(a), copy = F)\n",
    "\n",
    "#data_nor=normalize(as.matrix(a), method=\"Z-score\")\n",
    "data_nor[1:2,]\n",
    "\n",
    "## calculate directly \n",
    "#quantile_normalisation <- function(df){\n",
    "#  df_rank <- apply(df,2,rank,ties.method=\"min\")\n",
    "#  df_sorted <- data.frame(apply(df, 2, sort))\n",
    "#  df_mean <- apply(df_sorted, 1, mean)\n",
    "\n",
    "#  index_to_mean <- function(my_index, my_mean){\n",
    "#    return(my_mean[my_index])\n",
    "#  }\n",
    "#df_final <- apply(df_rank, 2, index_to_mean, my_mean=df_mean)\n",
    "# rownames(df_final) <- rownames(df)\n",
    "#  return(df_final)\n",
    "#}\n",
    "\n",
    "#quantile_normalisation(a)\n",
    "dataout_nor<-rbind(dataout[1,],data_nor)\n",
    "#write.csv(dataout_nor,file=\"data/aa-amine_data_nor_RM2.csv\",quote=F,row.names=T)"
   ]
  },
  {
   "cell_type": "markdown",
   "metadata": {},
   "source": [
    "##### combine 2 group normalizated data"
   ]
  },
  {
   "cell_type": "code",
   "execution_count": 12,
   "metadata": {},
   "outputs": [
    {
     "data": {
      "text/html": [
       "<table>\n",
       "<caption>A data.frame: 3 × 78</caption>\n",
       "<thead>\n",
       "\t<tr><th></th><th scope=col>JC.repeat.01</th><th scope=col>JC.repeat.02</th><th scope=col>JC.repeat.03</th><th scope=col>JC40002PL.02</th><th scope=col>JC40003PL.02</th><th scope=col>JC40004PL.02</th><th scope=col>JC40005PL.02</th><th scope=col>JC40006PL.02</th><th scope=col>JC40008PL.02</th><th scope=col>JC40009PL.02</th><th scope=col>⋯</th><th scope=col>SY783</th><th scope=col>SY787</th><th scope=col>SY789</th><th scope=col>SY790</th><th scope=col>SY801</th><th scope=col>SY803</th><th scope=col>SY804</th><th scope=col>SY805</th><th scope=col>SY806</th><th scope=col>SY807</th></tr>\n",
       "\t<tr><th></th><th scope=col>&lt;chr&gt;</th><th scope=col>&lt;chr&gt;</th><th scope=col>&lt;chr&gt;</th><th scope=col>&lt;chr&gt;</th><th scope=col>&lt;chr&gt;</th><th scope=col>&lt;chr&gt;</th><th scope=col>&lt;chr&gt;</th><th scope=col>&lt;chr&gt;</th><th scope=col>&lt;chr&gt;</th><th scope=col>&lt;chr&gt;</th><th scope=col>⋯</th><th scope=col>&lt;chr&gt;</th><th scope=col>&lt;chr&gt;</th><th scope=col>&lt;chr&gt;</th><th scope=col>&lt;chr&gt;</th><th scope=col>&lt;chr&gt;</th><th scope=col>&lt;chr&gt;</th><th scope=col>&lt;chr&gt;</th><th scope=col>&lt;chr&gt;</th><th scope=col>&lt;chr&gt;</th><th scope=col>&lt;chr&gt;</th></tr>\n",
       "</thead>\n",
       "<tbody>\n",
       "\t<tr><th scope=row>Group</th><td>normal          </td><td>normal          </td><td>normal          </td><td>normal          </td><td>normal          </td><td>normal          </td><td>normal          </td><td>normal          </td><td>normal          </td><td>normal          </td><td>⋯</td><td>cancer          </td><td>cancer          </td><td>cancer          </td><td>cancer          </td><td>cancer          </td><td>cancer          </td><td>cancer          </td><td>cancer          </td><td>cancer          </td><td>cancer          </td></tr>\n",
       "\t<tr><th scope=row>C0</th><td>14.1571794871795</td><td>29.4788461538462</td><td>44.3166666666667</td><td>32.8020512820513</td><td>29.4788461538462</td><td>22.0415384615385</td><td>44.3166666666667</td><td>14.5866025641026</td><td>29.4788461538462</td><td>32.8020512820513</td><td>⋯</td><td>37.7576923076923</td><td>37.7576923076923</td><td>29.4788461538462</td><td>44.3166666666667</td><td>22.0415384615385</td><td>37.7576923076923</td><td>26.9412820512821</td><td>24.5466666666667</td><td>44.3166666666667</td><td>29.4788461538462</td></tr>\n",
       "\t<tr><th scope=row>C2</th><td>1.82646153846154</td><td>3.16152564102564</td><td>12.1515384615385</td><td>10.0412820512821</td><td>11.2379487179487</td><td>9.44564102564103</td><td>12.8586538461538</td><td>1.82646153846154</td><td>6.52807692307692</td><td>13.2615384615385</td><td>⋯</td><td>5.37141025641026</td><td>7.33076923076923</td><td>2.31851282051282</td><td>9.44564102564103</td><td>8.57153846153846</td><td>8.57153846153846</td><td>6.09820512820513</td><td>2.03539743589744</td><td>26.9412820512821</td><td>7.71217948717949</td></tr>\n",
       "</tbody>\n",
       "</table>\n"
      ],
      "text/latex": [
       "A data.frame: 3 × 78\n",
       "\\begin{tabular}{r|lllllllllllllllllllll}\n",
       "  & JC.repeat.01 & JC.repeat.02 & JC.repeat.03 & JC40002PL.02 & JC40003PL.02 & JC40004PL.02 & JC40005PL.02 & JC40006PL.02 & JC40008PL.02 & JC40009PL.02 & ⋯ & SY783 & SY787 & SY789 & SY790 & SY801 & SY803 & SY804 & SY805 & SY806 & SY807\\\\\n",
       "  & <chr> & <chr> & <chr> & <chr> & <chr> & <chr> & <chr> & <chr> & <chr> & <chr> & ⋯ & <chr> & <chr> & <chr> & <chr> & <chr> & <chr> & <chr> & <chr> & <chr> & <chr>\\\\\n",
       "\\hline\n",
       "\tGroup & normal           & normal           & normal           & normal           & normal           & normal           & normal           & normal           & normal           & normal           & ⋯ & cancer           & cancer           & cancer           & cancer           & cancer           & cancer           & cancer           & cancer           & cancer           & cancer          \\\\\n",
       "\tC0 & 14.1571794871795 & 29.4788461538462 & 44.3166666666667 & 32.8020512820513 & 29.4788461538462 & 22.0415384615385 & 44.3166666666667 & 14.5866025641026 & 29.4788461538462 & 32.8020512820513 & ⋯ & 37.7576923076923 & 37.7576923076923 & 29.4788461538462 & 44.3166666666667 & 22.0415384615385 & 37.7576923076923 & 26.9412820512821 & 24.5466666666667 & 44.3166666666667 & 29.4788461538462\\\\\n",
       "\tC2 & 1.82646153846154 & 3.16152564102564 & 12.1515384615385 & 10.0412820512821 & 11.2379487179487 & 9.44564102564103 & 12.8586538461538 & 1.82646153846154 & 6.52807692307692 & 13.2615384615385 & ⋯ & 5.37141025641026 & 7.33076923076923 & 2.31851282051282 & 9.44564102564103 & 8.57153846153846 & 8.57153846153846 & 6.09820512820513 & 2.03539743589744 & 26.9412820512821 & 7.71217948717949\\\\\n",
       "\\end{tabular}\n"
      ],
      "text/markdown": [
       "\n",
       "A data.frame: 3 × 78\n",
       "\n",
       "| <!--/--> | JC.repeat.01 &lt;chr&gt; | JC.repeat.02 &lt;chr&gt; | JC.repeat.03 &lt;chr&gt; | JC40002PL.02 &lt;chr&gt; | JC40003PL.02 &lt;chr&gt; | JC40004PL.02 &lt;chr&gt; | JC40005PL.02 &lt;chr&gt; | JC40006PL.02 &lt;chr&gt; | JC40008PL.02 &lt;chr&gt; | JC40009PL.02 &lt;chr&gt; | ⋯ ⋯ | SY783 &lt;chr&gt; | SY787 &lt;chr&gt; | SY789 &lt;chr&gt; | SY790 &lt;chr&gt; | SY801 &lt;chr&gt; | SY803 &lt;chr&gt; | SY804 &lt;chr&gt; | SY805 &lt;chr&gt; | SY806 &lt;chr&gt; | SY807 &lt;chr&gt; |\n",
       "|---|---|---|---|---|---|---|---|---|---|---|---|---|---|---|---|---|---|---|---|---|---|\n",
       "| Group | normal           | normal           | normal           | normal           | normal           | normal           | normal           | normal           | normal           | normal           | ⋯ | cancer           | cancer           | cancer           | cancer           | cancer           | cancer           | cancer           | cancer           | cancer           | cancer           |\n",
       "| C0 | 14.1571794871795 | 29.4788461538462 | 44.3166666666667 | 32.8020512820513 | 29.4788461538462 | 22.0415384615385 | 44.3166666666667 | 14.5866025641026 | 29.4788461538462 | 32.8020512820513 | ⋯ | 37.7576923076923 | 37.7576923076923 | 29.4788461538462 | 44.3166666666667 | 22.0415384615385 | 37.7576923076923 | 26.9412820512821 | 24.5466666666667 | 44.3166666666667 | 29.4788461538462 |\n",
       "| C2 | 1.82646153846154 | 3.16152564102564 | 12.1515384615385 | 10.0412820512821 | 11.2379487179487 | 9.44564102564103 | 12.8586538461538 | 1.82646153846154 | 6.52807692307692 | 13.2615384615385 | ⋯ | 5.37141025641026 | 7.33076923076923 | 2.31851282051282 | 9.44564102564103 | 8.57153846153846 | 8.57153846153846 | 6.09820512820513 | 2.03539743589744 | 26.9412820512821 | 7.71217948717949 |\n",
       "\n"
      ],
      "text/plain": [
       "      JC.repeat.01     JC.repeat.02     JC.repeat.03     JC40002PL.02    \n",
       "Group normal           normal           normal           normal          \n",
       "C0    14.1571794871795 29.4788461538462 44.3166666666667 32.8020512820513\n",
       "C2    1.82646153846154 3.16152564102564 12.1515384615385 10.0412820512821\n",
       "      JC40003PL.02     JC40004PL.02     JC40005PL.02     JC40006PL.02    \n",
       "Group normal           normal           normal           normal          \n",
       "C0    29.4788461538462 22.0415384615385 44.3166666666667 14.5866025641026\n",
       "C2    11.2379487179487 9.44564102564103 12.8586538461538 1.82646153846154\n",
       "      JC40008PL.02     JC40009PL.02     ⋯ SY783            SY787           \n",
       "Group normal           normal           ⋯ cancer           cancer          \n",
       "C0    29.4788461538462 32.8020512820513 ⋯ 37.7576923076923 37.7576923076923\n",
       "C2    6.52807692307692 13.2615384615385 ⋯ 5.37141025641026 7.33076923076923\n",
       "      SY789            SY790            SY801            SY803           \n",
       "Group cancer           cancer           cancer           cancer          \n",
       "C0    29.4788461538462 44.3166666666667 22.0415384615385 37.7576923076923\n",
       "C2    2.31851282051282 9.44564102564103 8.57153846153846 8.57153846153846\n",
       "      SY804            SY805            SY806            SY807           \n",
       "Group cancer           cancer           cancer           cancer          \n",
       "C0    26.9412820512821 24.5466666666667 44.3166666666667 29.4788461538462\n",
       "C2    6.09820512820513 2.03539743589744 26.9412820512821 7.71217948717949"
      ]
     },
     "metadata": {},
     "output_type": "display_data"
    },
    {
     "data": {
      "text/html": [
       "<table>\n",
       "<caption>A data.frame: 3 × 78</caption>\n",
       "<thead>\n",
       "\t<tr><th></th><th scope=col>JC.repeat.01</th><th scope=col>JC.repeat.02</th><th scope=col>JC.repeat.03</th><th scope=col>JC40002PL.02</th><th scope=col>JC40003PL.02</th><th scope=col>JC40004PL.02</th><th scope=col>JC40005PL.02</th><th scope=col>JC40006PL.02</th><th scope=col>JC40008PL.02</th><th scope=col>JC40009PL.02</th><th scope=col>⋯</th><th scope=col>SY783</th><th scope=col>SY787</th><th scope=col>SY789</th><th scope=col>SY790</th><th scope=col>SY801</th><th scope=col>SY803</th><th scope=col>SY804</th><th scope=col>SY805</th><th scope=col>SY806</th><th scope=col>SY807</th></tr>\n",
       "\t<tr><th></th><th scope=col>&lt;chr&gt;</th><th scope=col>&lt;chr&gt;</th><th scope=col>&lt;chr&gt;</th><th scope=col>&lt;chr&gt;</th><th scope=col>&lt;chr&gt;</th><th scope=col>&lt;chr&gt;</th><th scope=col>&lt;chr&gt;</th><th scope=col>&lt;chr&gt;</th><th scope=col>&lt;chr&gt;</th><th scope=col>&lt;chr&gt;</th><th scope=col>⋯</th><th scope=col>&lt;chr&gt;</th><th scope=col>&lt;chr&gt;</th><th scope=col>&lt;chr&gt;</th><th scope=col>&lt;chr&gt;</th><th scope=col>&lt;chr&gt;</th><th scope=col>&lt;chr&gt;</th><th scope=col>&lt;chr&gt;</th><th scope=col>&lt;chr&gt;</th><th scope=col>&lt;chr&gt;</th><th scope=col>&lt;chr&gt;</th></tr>\n",
       "</thead>\n",
       "<tbody>\n",
       "\t<tr><th scope=row>Group</th><td>normal          </td><td>normal          </td><td>normal          </td><td>normal          </td><td>normal          </td><td>normal          </td><td>normal          </td><td>normal          </td><td>normal          </td><td>normal          </td><td>⋯</td><td>cancer          </td><td>cancer          </td><td>cancer          </td><td>cancer          </td><td>cancer          </td><td>cancer          </td><td>cancer          </td><td>cancer          </td><td>cancer          </td><td>cancer          </td></tr>\n",
       "\t<tr><th scope=row>Ala</th><td>360.692307692308</td><td>360.692307692308</td><td>360.692307692308</td><td>5.05910256410256</td><td>270.74358974359 </td><td>222.475641025641</td><td>360.692307692308</td><td>360.692307692308</td><td>360.692307692308</td><td>360.692307692308</td><td>⋯</td><td>270.74358974359 </td><td>360.692307692308</td><td>360.692307692308</td><td>360.692307692308</td><td>360.692307692308</td><td>360.692307692308</td><td>315.717948717949</td><td>360.692307692308</td><td>360.692307692308</td><td>360.692307692308</td></tr>\n",
       "\t<tr><th scope=row>Arg</th><td>71.1794871794872</td><td>71.1794871794872</td><td>45.8019230769231</td><td>112.753846153846</td><td>71.1794871794872</td><td>66.3346153846154</td><td>45.8019230769231</td><td>66.3346153846154</td><td>41.1570512820513</td><td>62.2153846153846</td><td>⋯</td><td>112.753846153846</td><td>41.1570512820513</td><td>99.1833333333333</td><td>71.1794871794872</td><td>45.8019230769231</td><td>51.2080769230769</td><td>78.1346153846154</td><td>127.719230769231</td><td>35.3948717948718</td><td>71.1794871794872</td></tr>\n",
       "</tbody>\n",
       "</table>\n"
      ],
      "text/latex": [
       "A data.frame: 3 × 78\n",
       "\\begin{tabular}{r|lllllllllllllllllllll}\n",
       "  & JC.repeat.01 & JC.repeat.02 & JC.repeat.03 & JC40002PL.02 & JC40003PL.02 & JC40004PL.02 & JC40005PL.02 & JC40006PL.02 & JC40008PL.02 & JC40009PL.02 & ⋯ & SY783 & SY787 & SY789 & SY790 & SY801 & SY803 & SY804 & SY805 & SY806 & SY807\\\\\n",
       "  & <chr> & <chr> & <chr> & <chr> & <chr> & <chr> & <chr> & <chr> & <chr> & <chr> & ⋯ & <chr> & <chr> & <chr> & <chr> & <chr> & <chr> & <chr> & <chr> & <chr> & <chr>\\\\\n",
       "\\hline\n",
       "\tGroup & normal           & normal           & normal           & normal           & normal           & normal           & normal           & normal           & normal           & normal           & ⋯ & cancer           & cancer           & cancer           & cancer           & cancer           & cancer           & cancer           & cancer           & cancer           & cancer          \\\\\n",
       "\tAla & 360.692307692308 & 360.692307692308 & 360.692307692308 & 5.05910256410256 & 270.74358974359  & 222.475641025641 & 360.692307692308 & 360.692307692308 & 360.692307692308 & 360.692307692308 & ⋯ & 270.74358974359  & 360.692307692308 & 360.692307692308 & 360.692307692308 & 360.692307692308 & 360.692307692308 & 315.717948717949 & 360.692307692308 & 360.692307692308 & 360.692307692308\\\\\n",
       "\tArg & 71.1794871794872 & 71.1794871794872 & 45.8019230769231 & 112.753846153846 & 71.1794871794872 & 66.3346153846154 & 45.8019230769231 & 66.3346153846154 & 41.1570512820513 & 62.2153846153846 & ⋯ & 112.753846153846 & 41.1570512820513 & 99.1833333333333 & 71.1794871794872 & 45.8019230769231 & 51.2080769230769 & 78.1346153846154 & 127.719230769231 & 35.3948717948718 & 71.1794871794872\\\\\n",
       "\\end{tabular}\n"
      ],
      "text/markdown": [
       "\n",
       "A data.frame: 3 × 78\n",
       "\n",
       "| <!--/--> | JC.repeat.01 &lt;chr&gt; | JC.repeat.02 &lt;chr&gt; | JC.repeat.03 &lt;chr&gt; | JC40002PL.02 &lt;chr&gt; | JC40003PL.02 &lt;chr&gt; | JC40004PL.02 &lt;chr&gt; | JC40005PL.02 &lt;chr&gt; | JC40006PL.02 &lt;chr&gt; | JC40008PL.02 &lt;chr&gt; | JC40009PL.02 &lt;chr&gt; | ⋯ ⋯ | SY783 &lt;chr&gt; | SY787 &lt;chr&gt; | SY789 &lt;chr&gt; | SY790 &lt;chr&gt; | SY801 &lt;chr&gt; | SY803 &lt;chr&gt; | SY804 &lt;chr&gt; | SY805 &lt;chr&gt; | SY806 &lt;chr&gt; | SY807 &lt;chr&gt; |\n",
       "|---|---|---|---|---|---|---|---|---|---|---|---|---|---|---|---|---|---|---|---|---|---|\n",
       "| Group | normal           | normal           | normal           | normal           | normal           | normal           | normal           | normal           | normal           | normal           | ⋯ | cancer           | cancer           | cancer           | cancer           | cancer           | cancer           | cancer           | cancer           | cancer           | cancer           |\n",
       "| Ala | 360.692307692308 | 360.692307692308 | 360.692307692308 | 5.05910256410256 | 270.74358974359  | 222.475641025641 | 360.692307692308 | 360.692307692308 | 360.692307692308 | 360.692307692308 | ⋯ | 270.74358974359  | 360.692307692308 | 360.692307692308 | 360.692307692308 | 360.692307692308 | 360.692307692308 | 315.717948717949 | 360.692307692308 | 360.692307692308 | 360.692307692308 |\n",
       "| Arg | 71.1794871794872 | 71.1794871794872 | 45.8019230769231 | 112.753846153846 | 71.1794871794872 | 66.3346153846154 | 45.8019230769231 | 66.3346153846154 | 41.1570512820513 | 62.2153846153846 | ⋯ | 112.753846153846 | 41.1570512820513 | 99.1833333333333 | 71.1794871794872 | 45.8019230769231 | 51.2080769230769 | 78.1346153846154 | 127.719230769231 | 35.3948717948718 | 71.1794871794872 |\n",
       "\n"
      ],
      "text/plain": [
       "      JC.repeat.01     JC.repeat.02     JC.repeat.03     JC40002PL.02    \n",
       "Group normal           normal           normal           normal          \n",
       "Ala   360.692307692308 360.692307692308 360.692307692308 5.05910256410256\n",
       "Arg   71.1794871794872 71.1794871794872 45.8019230769231 112.753846153846\n",
       "      JC40003PL.02     JC40004PL.02     JC40005PL.02     JC40006PL.02    \n",
       "Group normal           normal           normal           normal          \n",
       "Ala   270.74358974359  222.475641025641 360.692307692308 360.692307692308\n",
       "Arg   71.1794871794872 66.3346153846154 45.8019230769231 66.3346153846154\n",
       "      JC40008PL.02     JC40009PL.02     ⋯ SY783            SY787           \n",
       "Group normal           normal           ⋯ cancer           cancer          \n",
       "Ala   360.692307692308 360.692307692308 ⋯ 270.74358974359  360.692307692308\n",
       "Arg   41.1570512820513 62.2153846153846 ⋯ 112.753846153846 41.1570512820513\n",
       "      SY789            SY790            SY801            SY803           \n",
       "Group cancer           cancer           cancer           cancer          \n",
       "Ala   360.692307692308 360.692307692308 360.692307692308 360.692307692308\n",
       "Arg   99.1833333333333 71.1794871794872 45.8019230769231 51.2080769230769\n",
       "      SY804            SY805            SY806            SY807           \n",
       "Group cancer           cancer           cancer           cancer          \n",
       "Ala   315.717948717949 360.692307692308 360.692307692308 360.692307692308\n",
       "Arg   78.1346153846154 127.719230769231 35.3948717948718 71.1794871794872"
      ]
     },
     "metadata": {},
     "output_type": "display_data"
    },
    {
     "data": {
      "text/html": [
       "<style>\n",
       ".list-inline {list-style: none; margin:0; padding: 0}\n",
       ".list-inline>li {display: inline-block}\n",
       ".list-inline>li:not(:last-child)::after {content: \"\\00b7\"; padding: 0 .5ex}\n",
       "</style>\n",
       "<ol class=list-inline><li>129</li><li>78</li></ol>\n"
      ],
      "text/latex": [
       "\\begin{enumerate*}\n",
       "\\item 129\n",
       "\\item 78\n",
       "\\end{enumerate*}\n"
      ],
      "text/markdown": [
       "1. 129\n",
       "2. 78\n",
       "\n",
       "\n"
      ],
      "text/plain": [
       "[1] 129  78"
      ]
     },
     "metadata": {},
     "output_type": "display_data"
    },
    {
     "data": {
      "text/html": [
       "<table>\n",
       "<caption>A data.frame: 2 × 78</caption>\n",
       "<thead>\n",
       "\t<tr><th></th><th scope=col>JC.repeat.01</th><th scope=col>JC.repeat.02</th><th scope=col>JC.repeat.03</th><th scope=col>JC40002PL.02</th><th scope=col>JC40003PL.02</th><th scope=col>JC40004PL.02</th><th scope=col>JC40005PL.02</th><th scope=col>JC40006PL.02</th><th scope=col>JC40008PL.02</th><th scope=col>JC40009PL.02</th><th scope=col>⋯</th><th scope=col>SY783</th><th scope=col>SY787</th><th scope=col>SY789</th><th scope=col>SY790</th><th scope=col>SY801</th><th scope=col>SY803</th><th scope=col>SY804</th><th scope=col>SY805</th><th scope=col>SY806</th><th scope=col>SY807</th></tr>\n",
       "\t<tr><th></th><th scope=col>&lt;dbl&gt;</th><th scope=col>&lt;dbl&gt;</th><th scope=col>&lt;dbl&gt;</th><th scope=col>&lt;dbl&gt;</th><th scope=col>&lt;dbl&gt;</th><th scope=col>&lt;dbl&gt;</th><th scope=col>&lt;dbl&gt;</th><th scope=col>&lt;dbl&gt;</th><th scope=col>&lt;dbl&gt;</th><th scope=col>&lt;dbl&gt;</th><th scope=col>⋯</th><th scope=col>&lt;dbl&gt;</th><th scope=col>&lt;dbl&gt;</th><th scope=col>&lt;dbl&gt;</th><th scope=col>&lt;dbl&gt;</th><th scope=col>&lt;dbl&gt;</th><th scope=col>&lt;dbl&gt;</th><th scope=col>&lt;dbl&gt;</th><th scope=col>&lt;dbl&gt;</th><th scope=col>&lt;dbl&gt;</th><th scope=col>&lt;dbl&gt;</th></tr>\n",
       "</thead>\n",
       "<tbody>\n",
       "\t<tr><th scope=row>1</th><td>14.157179</td><td>29.478846</td><td>44.31667</td><td>32.80205</td><td>29.47885</td><td>22.041538</td><td>44.31667</td><td>14.586603</td><td>29.478846</td><td>32.80205</td><td>⋯</td><td>37.75769</td><td>37.757692</td><td>29.478846</td><td>44.316667</td><td>22.041538</td><td>37.757692</td><td>26.941282</td><td>24.546667</td><td>44.31667</td><td>29.478846</td></tr>\n",
       "\t<tr><th scope=row>2</th><td> 1.826462</td><td> 3.161526</td><td>12.15154</td><td>10.04128</td><td>11.23795</td><td> 9.445641</td><td>12.85865</td><td> 1.826462</td><td> 6.528077</td><td>13.26154</td><td>⋯</td><td> 5.37141</td><td> 7.330769</td><td> 2.318513</td><td> 9.445641</td><td> 8.571538</td><td> 8.571538</td><td> 6.098205</td><td> 2.035397</td><td>26.94128</td><td> 7.712179</td></tr>\n",
       "</tbody>\n",
       "</table>\n"
      ],
      "text/latex": [
       "A data.frame: 2 × 78\n",
       "\\begin{tabular}{r|lllllllllllllllllllll}\n",
       "  & JC.repeat.01 & JC.repeat.02 & JC.repeat.03 & JC40002PL.02 & JC40003PL.02 & JC40004PL.02 & JC40005PL.02 & JC40006PL.02 & JC40008PL.02 & JC40009PL.02 & ⋯ & SY783 & SY787 & SY789 & SY790 & SY801 & SY803 & SY804 & SY805 & SY806 & SY807\\\\\n",
       "  & <dbl> & <dbl> & <dbl> & <dbl> & <dbl> & <dbl> & <dbl> & <dbl> & <dbl> & <dbl> & ⋯ & <dbl> & <dbl> & <dbl> & <dbl> & <dbl> & <dbl> & <dbl> & <dbl> & <dbl> & <dbl>\\\\\n",
       "\\hline\n",
       "\t1 & 14.157179 & 29.478846 & 44.31667 & 32.80205 & 29.47885 & 22.041538 & 44.31667 & 14.586603 & 29.478846 & 32.80205 & ⋯ & 37.75769 & 37.757692 & 29.478846 & 44.316667 & 22.041538 & 37.757692 & 26.941282 & 24.546667 & 44.31667 & 29.478846\\\\\n",
       "\t2 &  1.826462 &  3.161526 & 12.15154 & 10.04128 & 11.23795 &  9.445641 & 12.85865 &  1.826462 &  6.528077 & 13.26154 & ⋯ &  5.37141 &  7.330769 &  2.318513 &  9.445641 &  8.571538 &  8.571538 &  6.098205 &  2.035397 & 26.94128 &  7.712179\\\\\n",
       "\\end{tabular}\n"
      ],
      "text/markdown": [
       "\n",
       "A data.frame: 2 × 78\n",
       "\n",
       "| <!--/--> | JC.repeat.01 &lt;dbl&gt; | JC.repeat.02 &lt;dbl&gt; | JC.repeat.03 &lt;dbl&gt; | JC40002PL.02 &lt;dbl&gt; | JC40003PL.02 &lt;dbl&gt; | JC40004PL.02 &lt;dbl&gt; | JC40005PL.02 &lt;dbl&gt; | JC40006PL.02 &lt;dbl&gt; | JC40008PL.02 &lt;dbl&gt; | JC40009PL.02 &lt;dbl&gt; | ⋯ ⋯ | SY783 &lt;dbl&gt; | SY787 &lt;dbl&gt; | SY789 &lt;dbl&gt; | SY790 &lt;dbl&gt; | SY801 &lt;dbl&gt; | SY803 &lt;dbl&gt; | SY804 &lt;dbl&gt; | SY805 &lt;dbl&gt; | SY806 &lt;dbl&gt; | SY807 &lt;dbl&gt; |\n",
       "|---|---|---|---|---|---|---|---|---|---|---|---|---|---|---|---|---|---|---|---|---|---|\n",
       "| 1 | 14.157179 | 29.478846 | 44.31667 | 32.80205 | 29.47885 | 22.041538 | 44.31667 | 14.586603 | 29.478846 | 32.80205 | ⋯ | 37.75769 | 37.757692 | 29.478846 | 44.316667 | 22.041538 | 37.757692 | 26.941282 | 24.546667 | 44.31667 | 29.478846 |\n",
       "| 2 |  1.826462 |  3.161526 | 12.15154 | 10.04128 | 11.23795 |  9.445641 | 12.85865 |  1.826462 |  6.528077 | 13.26154 | ⋯ |  5.37141 |  7.330769 |  2.318513 |  9.445641 |  8.571538 |  8.571538 |  6.098205 |  2.035397 | 26.94128 |  7.712179 |\n",
       "\n"
      ],
      "text/plain": [
       "  JC.repeat.01 JC.repeat.02 JC.repeat.03 JC40002PL.02 JC40003PL.02 JC40004PL.02\n",
       "1 14.157179    29.478846    44.31667     32.80205     29.47885     22.041538   \n",
       "2  1.826462     3.161526    12.15154     10.04128     11.23795      9.445641   \n",
       "  JC40005PL.02 JC40006PL.02 JC40008PL.02 JC40009PL.02 ⋯ SY783    SY787    \n",
       "1 44.31667     14.586603    29.478846    32.80205     ⋯ 37.75769 37.757692\n",
       "2 12.85865      1.826462     6.528077    13.26154     ⋯  5.37141  7.330769\n",
       "  SY789     SY790     SY801     SY803     SY804     SY805     SY806   \n",
       "1 29.478846 44.316667 22.041538 37.757692 26.941282 24.546667 44.31667\n",
       "2  2.318513  9.445641  8.571538  8.571538  6.098205  2.035397 26.94128\n",
       "  SY807    \n",
       "1 29.478846\n",
       "2  7.712179"
      ]
     },
     "metadata": {},
     "output_type": "display_data"
    }
   ],
   "source": [
    "data_remain_nor<-as.data.frame(read.table(\"data/remains_data_nor_NORM.csv\",sep=\",\",header=T,row.names=1,stringsAsFactors=F))\n",
    "data_remain_nor[1:3,]\n",
    "data_aa_nor<-as.data.frame(read.table(\"data/aa-amine_data_nor_NORM.csv\",sep=\",\",header=T,row.names=1,stringsAsFactors=F))\n",
    "data_aa_nor[1:3,]\n",
    "data_nor_combin<-rbind(data_remain_nor[-1,],data_aa_nor[-1,])\n",
    "data_nor_combin=as.data.frame(lapply(data_nor_combin,as.numeric))\n",
    "#data_nor_combin=rbind(data_remain_nor[1,],data_nor_combin)\n",
    "#name<-combine(row.names(data_remain_nor),row.names(data_aa_nor)[-1])\n",
    "#name\n",
    "#row.names(data_nor_combin)<-name\n",
    "dataout_nor<-data_nor_combin\n",
    "dim(dataout_nor)\n",
    "#data_nor_combin[1:2,]\n",
    "dataout_nor[1:2,]"
   ]
  },
  {
   "cell_type": "markdown",
   "metadata": {},
   "source": [
    "##### see normalization result"
   ]
  },
  {
   "cell_type": "code",
   "execution_count": 13,
   "metadata": {
    "scrolled": false
   },
   "outputs": [
    {
     "data": {
      "text/html": [
       "<style>\n",
       ".list-inline {list-style: none; margin:0; padding: 0}\n",
       ".list-inline>li {display: inline-block}\n",
       ".list-inline>li:not(:last-child)::after {content: \"\\00b7\"; padding: 0 .5ex}\n",
       "</style>\n",
       "<ol class=list-inline><li>78</li><li>2</li></ol>\n"
      ],
      "text/latex": [
       "\\begin{enumerate*}\n",
       "\\item 78\n",
       "\\item 2\n",
       "\\end{enumerate*}\n"
      ],
      "text/markdown": [
       "1. 78\n",
       "2. 2\n",
       "\n",
       "\n"
      ],
      "text/plain": [
       "[1] 78  2"
      ]
     },
     "metadata": {},
     "output_type": "display_data"
    },
    {
     "name": "stderr",
     "output_type": "stream",
     "text": [
      "Warning message:\n",
      "“Removed 1 rows containing non-finite values (stat_density).”\n"
     ]
    },
    {
     "data": {
      "image/png": "[encoded data removed]",
      "text/plain": [
       "plot without title"
      ]
     },
     "metadata": {
      "image/png": {
       "height": 420,
       "width": 420
      }
     },
     "output_type": "display_data"
    }
   ],
   "source": [
    "library(ggplot2)\n",
    "\n",
    "a=dim(normal)[2]-1\n",
    "b=dim(data_nor)[2]\n",
    "normal_sta <- as.data.frame(apply(dataout_nor[,c(1:a)],2,mean))\n",
    "normal_sta$group=\"normal\"\n",
    "colnames(normal_sta)[1]=\"mean\"\n",
    "#normal_median[1:2,]\n",
    "a=dim(normal)[2]\n",
    "cancer_sta<- as.data.frame(apply(dataout_nor[,c(a:b)],2,mean))\n",
    "cancer_sta$group=\"cancer\"\n",
    "colnames(cancer_sta)[1]=\"mean\"\n",
    "#cancer_median[1:2,]\n",
    "sta<-rbind(normal_sta,cancer_sta)\n",
    "#sta\n",
    "dim(sta)\n",
    "p<-ggplot(sta,aes(x = mean))\n",
    "p+ geom_density(aes(color = group),size =1,alpha=0.5)+theme(text = element_text(size=20))+xlim(75.1290,75.1293)"
   ]
  },
  {
   "cell_type": "markdown",
   "metadata": {},
   "source": [
    "### PLS-DA"
   ]
  },
  {
   "cell_type": "code",
   "execution_count": 1,
   "metadata": {},
   "outputs": [
    {
     "data": {
      "text/html": [
       "<table>\n",
       "<caption>A data.frame: 2 × 129</caption>\n",
       "<thead>\n",
       "\t<tr><th></th><th scope=col>Label</th><th scope=col>Ala</th><th scope=col>Arg</th><th scope=col>Asn</th><th scope=col>Asp</th><th scope=col>Cit</th><th scope=col>Gln</th><th scope=col>Glu</th><th scope=col>Gly</th><th scope=col>His</th><th scope=col>⋯</th><th scope=col>SM..OH..C24.1</th><th scope=col>SM.C16.0</th><th scope=col>SM.C16.1</th><th scope=col>SM.C18.0</th><th scope=col>SM.C18.1</th><th scope=col>SM.C20.2</th><th scope=col>SM.C24.0</th><th scope=col>SM.C24.1</th><th scope=col>SM.C26.0</th><th scope=col>SM.C26.1</th></tr>\n",
       "\t<tr><th></th><th scope=col>&lt;chr&gt;</th><th scope=col>&lt;dbl&gt;</th><th scope=col>&lt;dbl&gt;</th><th scope=col>&lt;dbl&gt;</th><th scope=col>&lt;dbl&gt;</th><th scope=col>&lt;dbl&gt;</th><th scope=col>&lt;dbl&gt;</th><th scope=col>&lt;dbl&gt;</th><th scope=col>&lt;dbl&gt;</th><th scope=col>&lt;dbl&gt;</th><th scope=col>⋯</th><th scope=col>&lt;dbl&gt;</th><th scope=col>&lt;dbl&gt;</th><th scope=col>&lt;dbl&gt;</th><th scope=col>&lt;dbl&gt;</th><th scope=col>&lt;dbl&gt;</th><th scope=col>&lt;dbl&gt;</th><th scope=col>&lt;dbl&gt;</th><th scope=col>&lt;dbl&gt;</th><th scope=col>&lt;dbl&gt;</th><th scope=col>&lt;dbl&gt;</th></tr>\n",
       "</thead>\n",
       "<tbody>\n",
       "\t<tr><th scope=row>GX007</th><td>cancer</td><td> 0.3784306</td><td>0.08392804</td><td>1.35300909</td><td> 0.1789470</td><td>-0.3412076</td><td>0.1132277</td><td>-0.3926551</td><td> 0.3447160</td><td>-1.3625264</td><td>⋯</td><td>-0.5425305</td><td>-0.1643331</td><td>0.32089585</td><td>0.1923296</td><td> 1.08169090</td><td>-0.3424393</td><td> 0.5471206</td><td>0.2734191</td><td> 0.003512334</td><td>-0.4191987</td></tr>\n",
       "\t<tr><th scope=row>GX009</th><td>cancer</td><td>-1.9615511</td><td>0.08392804</td><td>0.09796407</td><td>-0.4744501</td><td> 0.2527143</td><td>0.1132277</td><td> 0.9973204</td><td>-0.5065311</td><td>-0.9807543</td><td>⋯</td><td> 0.7040583</td><td> 1.9663536</td><td>0.02732124</td><td>1.7083101</td><td>-0.09641774</td><td> 1.1976776</td><td>-0.3631814</td><td>2.5934359</td><td>-0.831321341</td><td> 1.3322179</td></tr>\n",
       "</tbody>\n",
       "</table>\n"
      ],
      "text/latex": [
       "A data.frame: 2 × 129\n",
       "\\begin{tabular}{r|lllllllllllllllllllll}\n",
       "  & Label & Ala & Arg & Asn & Asp & Cit & Gln & Glu & Gly & His & ⋯ & SM..OH..C24.1 & SM.C16.0 & SM.C16.1 & SM.C18.0 & SM.C18.1 & SM.C20.2 & SM.C24.0 & SM.C24.1 & SM.C26.0 & SM.C26.1\\\\\n",
       "  & <chr> & <dbl> & <dbl> & <dbl> & <dbl> & <dbl> & <dbl> & <dbl> & <dbl> & <dbl> & ⋯ & <dbl> & <dbl> & <dbl> & <dbl> & <dbl> & <dbl> & <dbl> & <dbl> & <dbl> & <dbl>\\\\\n",
       "\\hline\n",
       "\tGX007 & cancer &  0.3784306 & 0.08392804 & 1.35300909 &  0.1789470 & -0.3412076 & 0.1132277 & -0.3926551 &  0.3447160 & -1.3625264 & ⋯ & -0.5425305 & -0.1643331 & 0.32089585 & 0.1923296 &  1.08169090 & -0.3424393 &  0.5471206 & 0.2734191 &  0.003512334 & -0.4191987\\\\\n",
       "\tGX009 & cancer & -1.9615511 & 0.08392804 & 0.09796407 & -0.4744501 &  0.2527143 & 0.1132277 &  0.9973204 & -0.5065311 & -0.9807543 & ⋯ &  0.7040583 &  1.9663536 & 0.02732124 & 1.7083101 & -0.09641774 &  1.1976776 & -0.3631814 & 2.5934359 & -0.831321341 &  1.3322179\\\\\n",
       "\\end{tabular}\n"
      ],
      "text/markdown": [
       "\n",
       "A data.frame: 2 × 129\n",
       "\n",
       "| <!--/--> | Label &lt;chr&gt; | Ala &lt;dbl&gt; | Arg &lt;dbl&gt; | Asn &lt;dbl&gt; | Asp &lt;dbl&gt; | Cit &lt;dbl&gt; | Gln &lt;dbl&gt; | Glu &lt;dbl&gt; | Gly &lt;dbl&gt; | His &lt;dbl&gt; | ⋯ ⋯ | SM..OH..C24.1 &lt;dbl&gt; | SM.C16.0 &lt;dbl&gt; | SM.C16.1 &lt;dbl&gt; | SM.C18.0 &lt;dbl&gt; | SM.C18.1 &lt;dbl&gt; | SM.C20.2 &lt;dbl&gt; | SM.C24.0 &lt;dbl&gt; | SM.C24.1 &lt;dbl&gt; | SM.C26.0 &lt;dbl&gt; | SM.C26.1 &lt;dbl&gt; |\n",
       "|---|---|---|---|---|---|---|---|---|---|---|---|---|---|---|---|---|---|---|---|---|---|\n",
       "| GX007 | cancer |  0.3784306 | 0.08392804 | 1.35300909 |  0.1789470 | -0.3412076 | 0.1132277 | -0.3926551 |  0.3447160 | -1.3625264 | ⋯ | -0.5425305 | -0.1643331 | 0.32089585 | 0.1923296 |  1.08169090 | -0.3424393 |  0.5471206 | 0.2734191 |  0.003512334 | -0.4191987 |\n",
       "| GX009 | cancer | -1.9615511 | 0.08392804 | 0.09796407 | -0.4744501 |  0.2527143 | 0.1132277 |  0.9973204 | -0.5065311 | -0.9807543 | ⋯ |  0.7040583 |  1.9663536 | 0.02732124 | 1.7083101 | -0.09641774 |  1.1976776 | -0.3631814 | 2.5934359 | -0.831321341 |  1.3322179 |\n",
       "\n"
      ],
      "text/plain": [
       "      Label  Ala        Arg        Asn        Asp        Cit        Gln      \n",
       "GX007 cancer  0.3784306 0.08392804 1.35300909  0.1789470 -0.3412076 0.1132277\n",
       "GX009 cancer -1.9615511 0.08392804 0.09796407 -0.4744501  0.2527143 0.1132277\n",
       "      Glu        Gly        His        ⋯ SM..OH..C24.1 SM.C16.0   SM.C16.1  \n",
       "GX007 -0.3926551  0.3447160 -1.3625264 ⋯ -0.5425305    -0.1643331 0.32089585\n",
       "GX009  0.9973204 -0.5065311 -0.9807543 ⋯  0.7040583     1.9663536 0.02732124\n",
       "      SM.C18.0  SM.C18.1    SM.C20.2   SM.C24.0   SM.C24.1  SM.C26.0    \n",
       "GX007 0.1923296  1.08169090 -0.3424393  0.5471206 0.2734191  0.003512334\n",
       "GX009 1.7083101 -0.09641774  1.1976776 -0.3631814 2.5934359 -0.831321341\n",
       "      SM.C26.1  \n",
       "GX007 -0.4191987\n",
       "GX009  1.3322179"
      ]
     },
     "metadata": {},
     "output_type": "display_data"
    },
    {
     "name": "stderr",
     "output_type": "stream",
     "text": [
      "Warning message in lapply(data_nor, as.numeric):\n",
      "“NAs introduced by coercion”\n"
     ]
    },
    {
     "data": {
      "text/html": [
       "<table>\n",
       "<caption>A data.frame: 2 × 128</caption>\n",
       "<thead>\n",
       "\t<tr><th></th><th scope=col>Ala</th><th scope=col>Arg</th><th scope=col>Asn</th><th scope=col>Asp</th><th scope=col>Cit</th><th scope=col>Gln</th><th scope=col>Glu</th><th scope=col>Gly</th><th scope=col>His</th><th scope=col>Ile</th><th scope=col>⋯</th><th scope=col>SM..OH..C24.1</th><th scope=col>SM.C16.0</th><th scope=col>SM.C16.1</th><th scope=col>SM.C18.0</th><th scope=col>SM.C18.1</th><th scope=col>SM.C20.2</th><th scope=col>SM.C24.0</th><th scope=col>SM.C24.1</th><th scope=col>SM.C26.0</th><th scope=col>SM.C26.1</th></tr>\n",
       "\t<tr><th></th><th scope=col>&lt;dbl&gt;</th><th scope=col>&lt;dbl&gt;</th><th scope=col>&lt;dbl&gt;</th><th scope=col>&lt;dbl&gt;</th><th scope=col>&lt;dbl&gt;</th><th scope=col>&lt;dbl&gt;</th><th scope=col>&lt;dbl&gt;</th><th scope=col>&lt;dbl&gt;</th><th scope=col>&lt;dbl&gt;</th><th scope=col>&lt;dbl&gt;</th><th scope=col>⋯</th><th scope=col>&lt;dbl&gt;</th><th scope=col>&lt;dbl&gt;</th><th scope=col>&lt;dbl&gt;</th><th scope=col>&lt;dbl&gt;</th><th scope=col>&lt;dbl&gt;</th><th scope=col>&lt;dbl&gt;</th><th scope=col>&lt;dbl&gt;</th><th scope=col>&lt;dbl&gt;</th><th scope=col>&lt;dbl&gt;</th><th scope=col>&lt;dbl&gt;</th></tr>\n",
       "</thead>\n",
       "<tbody>\n",
       "\t<tr><th scope=row>GX007</th><td> 0.3784306</td><td>0.08392804</td><td>1.35300909</td><td> 0.1789470</td><td>-0.3412076</td><td>0.1132277</td><td>-0.3926551</td><td> 0.3447160</td><td>-1.3625264</td><td>0.8801948</td><td>⋯</td><td>-0.5425305</td><td>-0.1643331</td><td>0.32089585</td><td>0.1923296</td><td> 1.08169090</td><td>-0.3424393</td><td> 0.5471206</td><td>0.2734191</td><td> 0.003512334</td><td>-0.4191987</td></tr>\n",
       "\t<tr><th scope=row>GX009</th><td>-1.9615511</td><td>0.08392804</td><td>0.09796407</td><td>-0.4744501</td><td> 0.2527143</td><td>0.1132277</td><td> 0.9973204</td><td>-0.5065311</td><td>-0.9807543</td><td>1.5284680</td><td>⋯</td><td> 0.7040583</td><td> 1.9663536</td><td>0.02732124</td><td>1.7083101</td><td>-0.09641774</td><td> 1.1976776</td><td>-0.3631814</td><td>2.5934359</td><td>-0.831321341</td><td> 1.3322179</td></tr>\n",
       "</tbody>\n",
       "</table>\n"
      ],
      "text/latex": [
       "A data.frame: 2 × 128\n",
       "\\begin{tabular}{r|lllllllllllllllllllll}\n",
       "  & Ala & Arg & Asn & Asp & Cit & Gln & Glu & Gly & His & Ile & ⋯ & SM..OH..C24.1 & SM.C16.0 & SM.C16.1 & SM.C18.0 & SM.C18.1 & SM.C20.2 & SM.C24.0 & SM.C24.1 & SM.C26.0 & SM.C26.1\\\\\n",
       "  & <dbl> & <dbl> & <dbl> & <dbl> & <dbl> & <dbl> & <dbl> & <dbl> & <dbl> & <dbl> & ⋯ & <dbl> & <dbl> & <dbl> & <dbl> & <dbl> & <dbl> & <dbl> & <dbl> & <dbl> & <dbl>\\\\\n",
       "\\hline\n",
       "\tGX007 &  0.3784306 & 0.08392804 & 1.35300909 &  0.1789470 & -0.3412076 & 0.1132277 & -0.3926551 &  0.3447160 & -1.3625264 & 0.8801948 & ⋯ & -0.5425305 & -0.1643331 & 0.32089585 & 0.1923296 &  1.08169090 & -0.3424393 &  0.5471206 & 0.2734191 &  0.003512334 & -0.4191987\\\\\n",
       "\tGX009 & -1.9615511 & 0.08392804 & 0.09796407 & -0.4744501 &  0.2527143 & 0.1132277 &  0.9973204 & -0.5065311 & -0.9807543 & 1.5284680 & ⋯ &  0.7040583 &  1.9663536 & 0.02732124 & 1.7083101 & -0.09641774 &  1.1976776 & -0.3631814 & 2.5934359 & -0.831321341 &  1.3322179\\\\\n",
       "\\end{tabular}\n"
      ],
      "text/markdown": [
       "\n",
       "A data.frame: 2 × 128\n",
       "\n",
       "| <!--/--> | Ala &lt;dbl&gt; | Arg &lt;dbl&gt; | Asn &lt;dbl&gt; | Asp &lt;dbl&gt; | Cit &lt;dbl&gt; | Gln &lt;dbl&gt; | Glu &lt;dbl&gt; | Gly &lt;dbl&gt; | His &lt;dbl&gt; | Ile &lt;dbl&gt; | ⋯ ⋯ | SM..OH..C24.1 &lt;dbl&gt; | SM.C16.0 &lt;dbl&gt; | SM.C16.1 &lt;dbl&gt; | SM.C18.0 &lt;dbl&gt; | SM.C18.1 &lt;dbl&gt; | SM.C20.2 &lt;dbl&gt; | SM.C24.0 &lt;dbl&gt; | SM.C24.1 &lt;dbl&gt; | SM.C26.0 &lt;dbl&gt; | SM.C26.1 &lt;dbl&gt; |\n",
       "|---|---|---|---|---|---|---|---|---|---|---|---|---|---|---|---|---|---|---|---|---|---|\n",
       "| GX007 |  0.3784306 | 0.08392804 | 1.35300909 |  0.1789470 | -0.3412076 | 0.1132277 | -0.3926551 |  0.3447160 | -1.3625264 | 0.8801948 | ⋯ | -0.5425305 | -0.1643331 | 0.32089585 | 0.1923296 |  1.08169090 | -0.3424393 |  0.5471206 | 0.2734191 |  0.003512334 | -0.4191987 |\n",
       "| GX009 | -1.9615511 | 0.08392804 | 0.09796407 | -0.4744501 |  0.2527143 | 0.1132277 |  0.9973204 | -0.5065311 | -0.9807543 | 1.5284680 | ⋯ |  0.7040583 |  1.9663536 | 0.02732124 | 1.7083101 | -0.09641774 |  1.1976776 | -0.3631814 | 2.5934359 | -0.831321341 |  1.3322179 |\n",
       "\n"
      ],
      "text/plain": [
       "      Ala        Arg        Asn        Asp        Cit        Gln      \n",
       "GX007  0.3784306 0.08392804 1.35300909  0.1789470 -0.3412076 0.1132277\n",
       "GX009 -1.9615511 0.08392804 0.09796407 -0.4744501  0.2527143 0.1132277\n",
       "      Glu        Gly        His        Ile       ⋯ SM..OH..C24.1 SM.C16.0  \n",
       "GX007 -0.3926551  0.3447160 -1.3625264 0.8801948 ⋯ -0.5425305    -0.1643331\n",
       "GX009  0.9973204 -0.5065311 -0.9807543 1.5284680 ⋯  0.7040583     1.9663536\n",
       "      SM.C16.1   SM.C18.0  SM.C18.1    SM.C20.2   SM.C24.0   SM.C24.1 \n",
       "GX007 0.32089585 0.1923296  1.08169090 -0.3424393  0.5471206 0.2734191\n",
       "GX009 0.02732124 1.7083101 -0.09641774  1.1976776 -0.3631814 2.5934359\n",
       "      SM.C26.0     SM.C26.1  \n",
       "GX007  0.003512334 -0.4191987\n",
       "GX009 -0.831321341  1.3322179"
      ]
     },
     "metadata": {},
     "output_type": "display_data"
    },
    {
     "data": {
      "text/html": [
       "<style>\n",
       ".list-inline {list-style: none; margin:0; padding: 0}\n",
       ".list-inline>li {display: inline-block}\n",
       ".list-inline>li:not(:last-child)::after {content: \"\\00b7\"; padding: 0 .5ex}\n",
       "</style>\n",
       "<ol class=list-inline><li>78</li><li>128</li></ol>\n"
      ],
      "text/latex": [
       "\\begin{enumerate*}\n",
       "\\item 78\n",
       "\\item 128\n",
       "\\end{enumerate*}\n"
      ],
      "text/markdown": [
       "1. 78\n",
       "2. 128\n",
       "\n",
       "\n"
      ],
      "text/plain": [
       "[1]  78 128"
      ]
     },
     "metadata": {},
     "output_type": "display_data"
    }
   ],
   "source": [
    "data_nor<-as.data.frame(read.table(\"data/IDQ180_NORM_qnor_autoscall.csv\",sep=\",\",header=T,row.names=1,stringsAsFactors=F))\n",
    "#data_nor<-data_nor_combin\n",
    "data_nor[1:2,]\n",
    "data_nor_num=as.data.frame(lapply(data_nor,as.numeric))\n",
    "row.names(data_nor_num)<-row.names(data_nor)\n",
    "#data_nor_num<-rbind(data_nor[1,],data_nor_num)\n",
    "data_nor_num<-data_nor_num[,-1]\n",
    "data_nor_num[1:2,]\n",
    "dim(data_nor_num)\n",
    "#group<-as.data.frame(data[-1,1])\n",
    "#group[1:5,]"
   ]
  },
  {
   "cell_type": "code",
   "execution_count": 2,
   "metadata": {
    "scrolled": false
   },
   "outputs": [
    {
     "name": "stdout",
     "output_type": "stream",
     "text": [
      "PLS-DA\n",
      "78 samples x 128 variables and 1 response\n",
      "standard scaling of predictors and response(s)\n",
      "      R2X(cum) R2Y(cum) Q2(cum) RMSEE pre ort pR2Y  pQ2\n",
      "Total    0.209    0.788   0.655 0.235   2   0 0.05 0.05\n"
     ]
    },
    {
     "data": {
      "text/plain": [
       "PLS-DA\n",
       "78 samples x 128 variables and 1 response\n",
       "standard scaling of predictors and response(s)\n",
       "      R2X(cum) R2Y(cum) Q2(cum) RMSEE pre ort pR2Y  pQ2\n",
       "Total    0.209    0.788   0.655 0.235   2   0 0.05 0.05"
      ]
     },
     "metadata": {},
     "output_type": "display_data"
    },
    {
     "name": "stderr",
     "output_type": "stream",
     "text": [
      "Warning message:\n",
      "“'permI' set to 0 because train/test partition is selected”\n"
     ]
    },
    {
     "name": "stdout",
     "output_type": "stream",
     "text": [
      "PLS-DA\n",
      "40 samples x 128 variables and 1 response\n",
      "standard scaling of predictors and response(s)\n",
      "      R2X(cum) R2Y(cum) Q2(cum) RMSEE RMSEP pre ort\n",
      "Total     0.23    0.832   0.618 0.213  3.06   2   0\n"
     ]
    },
    {
     "data": {
      "text/plain": [
       "PLS-DA\n",
       "40 samples x 128 variables and 1 response\n",
       "standard scaling of predictors and response(s)\n",
       "      R2X(cum) R2Y(cum) Q2(cum) RMSEE RMSEP pre ort\n",
       "Total     0.23    0.832   0.618 0.213  3.06   2   0"
      ]
     },
     "metadata": {},
     "output_type": "display_data"
    },
    {
     "data": {
      "text/plain": [
       "        \n",
       "         cancer normal\n",
       "  cancer     20      0\n",
       "  normal      0     20"
      ]
     },
     "metadata": {},
     "output_type": "display_data"
    },
    {
     "data": {
      "text/html": [
       "<style>\n",
       ".dl-inline {width: auto; margin:0; padding: 0}\n",
       ".dl-inline>dt, .dl-inline>dd {float: none; width: auto; display: inline-block}\n",
       ".dl-inline>dt::after {content: \":\\0020\"; padding-right: .5ex}\n",
       ".dl-inline>dt:not(:first-of-type) {padding-left: .5ex}\n",
       "</style><dl class=dl-inline><dt>GX007</dt><dd>'cancer'</dd><dt>GX013</dt><dd>'cancer'</dd><dt>SY687</dt><dd>'cancer'</dd><dt>SY699</dt><dd>'cancer'</dd><dt>SY702</dt><dd>'cancer'</dd><dt>SY704</dt><dd>'cancer'</dd><dt>SY714</dt><dd>'cancer'</dd><dt>SY727</dt><dd>'cancer'</dd><dt>SY737</dt><dd>'cancer'</dd><dt>SY743</dt><dd>'cancer'</dd><dt>SY747</dt><dd>'cancer'</dd><dt>SY749</dt><dd>'cancer'</dd><dt>SY761</dt><dd>'cancer'</dd><dt>SY775</dt><dd>'cancer'</dd><dt>SY780</dt><dd>'cancer'</dd><dt>SY787</dt><dd>'cancer'</dd><dt>SY790</dt><dd>'cancer'</dd><dt>SY804</dt><dd>'cancer'</dd><dt>SY805</dt><dd>'cancer'</dd><dt>SY806</dt><dd>'cancer'</dd><dt>JC.repeat.01</dt><dd>'normal'</dd><dt>JC.repeat.03</dt><dd>'normal'</dd><dt>JC40003PL.02</dt><dd>'normal'</dd><dt>JC40005PL.02</dt><dd>'normal'</dd><dt>JC40008PL.02</dt><dd>'normal'</dd><dt>JC40010PL.02</dt><dd>'normal'</dd><dt>JC40012PL.02</dt><dd>'normal'</dd><dt>JC40014PL.02</dt><dd>'normal'</dd><dt>JC50007PL.02</dt><dd>'normal'</dd><dt>JC50009PL.02</dt><dd>'normal'</dd><dt>JC50011PL.02</dt><dd>'normal'</dd><dt>JC50013PL.02</dt><dd>'normal'</dd><dt>JC50015PL.02</dt><dd>'normal'</dd><dt>JC50017PL.02</dt><dd>'normal'</dd><dt>JC50019PL.02</dt><dd>'normal'</dd><dt>JC50021PL.02</dt><dd>'normal'</dd><dt>JC50023PL.02</dt><dd>'normal'</dd><dt>JC50025PL.02</dt><dd>'normal'</dd><dt>JC50027PL.02</dt><dd>'normal'</dd><dt>JC50029PL.02</dt><dd>'normal'</dd></dl>\n"
      ],
      "text/latex": [
       "\\begin{description*}\n",
       "\\item[GX007] 'cancer'\n",
       "\\item[GX013] 'cancer'\n",
       "\\item[SY687] 'cancer'\n",
       "\\item[SY699] 'cancer'\n",
       "\\item[SY702] 'cancer'\n",
       "\\item[SY704] 'cancer'\n",
       "\\item[SY714] 'cancer'\n",
       "\\item[SY727] 'cancer'\n",
       "\\item[SY737] 'cancer'\n",
       "\\item[SY743] 'cancer'\n",
       "\\item[SY747] 'cancer'\n",
       "\\item[SY749] 'cancer'\n",
       "\\item[SY761] 'cancer'\n",
       "\\item[SY775] 'cancer'\n",
       "\\item[SY780] 'cancer'\n",
       "\\item[SY787] 'cancer'\n",
       "\\item[SY790] 'cancer'\n",
       "\\item[SY804] 'cancer'\n",
       "\\item[SY805] 'cancer'\n",
       "\\item[SY806] 'cancer'\n",
       "\\item[JC.repeat.01] 'normal'\n",
       "\\item[JC.repeat.03] 'normal'\n",
       "\\item[JC40003PL.02] 'normal'\n",
       "\\item[JC40005PL.02] 'normal'\n",
       "\\item[JC40008PL.02] 'normal'\n",
       "\\item[JC40010PL.02] 'normal'\n",
       "\\item[JC40012PL.02] 'normal'\n",
       "\\item[JC40014PL.02] 'normal'\n",
       "\\item[JC50007PL.02] 'normal'\n",
       "\\item[JC50009PL.02] 'normal'\n",
       "\\item[JC50011PL.02] 'normal'\n",
       "\\item[JC50013PL.02] 'normal'\n",
       "\\item[JC50015PL.02] 'normal'\n",
       "\\item[JC50017PL.02] 'normal'\n",
       "\\item[JC50019PL.02] 'normal'\n",
       "\\item[JC50021PL.02] 'normal'\n",
       "\\item[JC50023PL.02] 'normal'\n",
       "\\item[JC50025PL.02] 'normal'\n",
       "\\item[JC50027PL.02] 'normal'\n",
       "\\item[JC50029PL.02] 'normal'\n",
       "\\end{description*}\n"
      ],
      "text/markdown": [
       "GX007\n",
       ":   'cancer'GX013\n",
       ":   'cancer'SY687\n",
       ":   'cancer'SY699\n",
       ":   'cancer'SY702\n",
       ":   'cancer'SY704\n",
       ":   'cancer'SY714\n",
       ":   'cancer'SY727\n",
       ":   'cancer'SY737\n",
       ":   'cancer'SY743\n",
       ":   'cancer'SY747\n",
       ":   'cancer'SY749\n",
       ":   'cancer'SY761\n",
       ":   'cancer'SY775\n",
       ":   'cancer'SY780\n",
       ":   'cancer'SY787\n",
       ":   'cancer'SY790\n",
       ":   'cancer'SY804\n",
       ":   'cancer'SY805\n",
       ":   'cancer'SY806\n",
       ":   'cancer'JC.repeat.01\n",
       ":   'normal'JC.repeat.03\n",
       ":   'normal'JC40003PL.02\n",
       ":   'normal'JC40005PL.02\n",
       ":   'normal'JC40008PL.02\n",
       ":   'normal'JC40010PL.02\n",
       ":   'normal'JC40012PL.02\n",
       ":   'normal'JC40014PL.02\n",
       ":   'normal'JC50007PL.02\n",
       ":   'normal'JC50009PL.02\n",
       ":   'normal'JC50011PL.02\n",
       ":   'normal'JC50013PL.02\n",
       ":   'normal'JC50015PL.02\n",
       ":   'normal'JC50017PL.02\n",
       ":   'normal'JC50019PL.02\n",
       ":   'normal'JC50021PL.02\n",
       ":   'normal'JC50023PL.02\n",
       ":   'normal'JC50025PL.02\n",
       ":   'normal'JC50027PL.02\n",
       ":   'normal'JC50029PL.02\n",
       ":   'normal'\n",
       "\n"
      ],
      "text/plain": [
       "       GX007        GX013        SY687        SY699        SY702        SY704 \n",
       "    \"cancer\"     \"cancer\"     \"cancer\"     \"cancer\"     \"cancer\"     \"cancer\" \n",
       "       SY714        SY727        SY737        SY743        SY747        SY749 \n",
       "    \"cancer\"     \"cancer\"     \"cancer\"     \"cancer\"     \"cancer\"     \"cancer\" \n",
       "       SY761        SY775        SY780        SY787        SY790        SY804 \n",
       "    \"cancer\"     \"cancer\"     \"cancer\"     \"cancer\"     \"cancer\"     \"cancer\" \n",
       "       SY805        SY806 JC.repeat.01 JC.repeat.03 JC40003PL.02 JC40005PL.02 \n",
       "    \"cancer\"     \"cancer\"     \"normal\"     \"normal\"     \"normal\"     \"normal\" \n",
       "JC40008PL.02 JC40010PL.02 JC40012PL.02 JC40014PL.02 JC50007PL.02 JC50009PL.02 \n",
       "    \"normal\"     \"normal\"     \"normal\"     \"normal\"     \"normal\"     \"normal\" \n",
       "JC50011PL.02 JC50013PL.02 JC50015PL.02 JC50017PL.02 JC50019PL.02 JC50021PL.02 \n",
       "    \"normal\"     \"normal\"     \"normal\"     \"normal\"     \"normal\"     \"normal\" \n",
       "JC50023PL.02 JC50025PL.02 JC50027PL.02 JC50029PL.02 \n",
       "    \"normal\"     \"normal\"     \"normal\"     \"normal\" "
      ]
     },
     "metadata": {},
     "output_type": "display_data"
    },
    {
     "data": {
      "text/plain": [
       "        \n",
       "         cancer normal\n",
       "  cancer     16      3\n",
       "  normal      1     18"
      ]
     },
     "metadata": {},
     "output_type": "display_data"
    },
    {
     "data": {
      "text/html": [
       "<style>\n",
       ".dl-inline {width: auto; margin:0; padding: 0}\n",
       ".dl-inline>dt, .dl-inline>dd {float: none; width: auto; display: inline-block}\n",
       ".dl-inline>dt::after {content: \":\\0020\"; padding-right: .5ex}\n",
       ".dl-inline>dt:not(:first-of-type) {padding-left: .5ex}\n",
       "</style><dl class=dl-inline><dt>GX009</dt><dd>'cancer'</dd><dt>SY682</dt><dd>'cancer'</dd><dt>SY688</dt><dd>'cancer'</dd><dt>SY701</dt><dd>'cancer'</dd><dt>SY703</dt><dd>'cancer'</dd><dt>SY712</dt><dd>'cancer'</dd><dt>SY718</dt><dd>'normal'</dd><dt>SY730</dt><dd>'cancer'</dd><dt>SY738</dt><dd>'cancer'</dd><dt>SY745</dt><dd>'cancer'</dd><dt>SY748</dt><dd>'cancer'</dd><dt>SY759</dt><dd>'cancer'</dd><dt>SY766</dt><dd>'cancer'</dd><dt>SY776</dt><dd>'cancer'</dd><dt>SY783</dt><dd>'cancer'</dd><dt>SY789</dt><dd>'cancer'</dd><dt>SY801</dt><dd>'normal'</dd><dt>SY803</dt><dd>'normal'</dd><dt>SY807</dt><dd>'cancer'</dd><dt>JC.repeat.02</dt><dd>'normal'</dd><dt>JC40002PL.02</dt><dd>'normal'</dd><dt>JC40004PL.02</dt><dd>'normal'</dd><dt>JC40006PL.02</dt><dd>'normal'</dd><dt>JC40009PL.02</dt><dd>'normal'</dd><dt>JC40011PL.02</dt><dd>'normal'</dd><dt>JC40013PL.02</dt><dd>'normal'</dd><dt>JC50006PL.02</dt><dd>'normal'</dd><dt>JC50008PL.02</dt><dd>'normal'</dd><dt>JC50010PL.02</dt><dd>'normal'</dd><dt>JC50012PL.02</dt><dd>'cancer'</dd><dt>JC50014PL.02</dt><dd>'normal'</dd><dt>JC50016PL.02</dt><dd>'normal'</dd><dt>JC50018PL.02</dt><dd>'normal'</dd><dt>JC50020PL.02</dt><dd>'normal'</dd><dt>JC50022PL.02</dt><dd>'normal'</dd><dt>JC50024PL.02</dt><dd>'normal'</dd><dt>JC50026PL.02</dt><dd>'normal'</dd><dt>JC50028PL.02</dt><dd>'normal'</dd></dl>\n"
      ],
      "text/latex": [
       "\\begin{description*}\n",
       "\\item[GX009] 'cancer'\n",
       "\\item[SY682] 'cancer'\n",
       "\\item[SY688] 'cancer'\n",
       "\\item[SY701] 'cancer'\n",
       "\\item[SY703] 'cancer'\n",
       "\\item[SY712] 'cancer'\n",
       "\\item[SY718] 'normal'\n",
       "\\item[SY730] 'cancer'\n",
       "\\item[SY738] 'cancer'\n",
       "\\item[SY745] 'cancer'\n",
       "\\item[SY748] 'cancer'\n",
       "\\item[SY759] 'cancer'\n",
       "\\item[SY766] 'cancer'\n",
       "\\item[SY776] 'cancer'\n",
       "\\item[SY783] 'cancer'\n",
       "\\item[SY789] 'cancer'\n",
       "\\item[SY801] 'normal'\n",
       "\\item[SY803] 'normal'\n",
       "\\item[SY807] 'cancer'\n",
       "\\item[JC.repeat.02] 'normal'\n",
       "\\item[JC40002PL.02] 'normal'\n",
       "\\item[JC40004PL.02] 'normal'\n",
       "\\item[JC40006PL.02] 'normal'\n",
       "\\item[JC40009PL.02] 'normal'\n",
       "\\item[JC40011PL.02] 'normal'\n",
       "\\item[JC40013PL.02] 'normal'\n",
       "\\item[JC50006PL.02] 'normal'\n",
       "\\item[JC50008PL.02] 'normal'\n",
       "\\item[JC50010PL.02] 'normal'\n",
       "\\item[JC50012PL.02] 'cancer'\n",
       "\\item[JC50014PL.02] 'normal'\n",
       "\\item[JC50016PL.02] 'normal'\n",
       "\\item[JC50018PL.02] 'normal'\n",
       "\\item[JC50020PL.02] 'normal'\n",
       "\\item[JC50022PL.02] 'normal'\n",
       "\\item[JC50024PL.02] 'normal'\n",
       "\\item[JC50026PL.02] 'normal'\n",
       "\\item[JC50028PL.02] 'normal'\n",
       "\\end{description*}\n"
      ],
      "text/markdown": [
       "GX009\n",
       ":   'cancer'SY682\n",
       ":   'cancer'SY688\n",
       ":   'cancer'SY701\n",
       ":   'cancer'SY703\n",
       ":   'cancer'SY712\n",
       ":   'cancer'SY718\n",
       ":   'normal'SY730\n",
       ":   'cancer'SY738\n",
       ":   'cancer'SY745\n",
       ":   'cancer'SY748\n",
       ":   'cancer'SY759\n",
       ":   'cancer'SY766\n",
       ":   'cancer'SY776\n",
       ":   'cancer'SY783\n",
       ":   'cancer'SY789\n",
       ":   'cancer'SY801\n",
       ":   'normal'SY803\n",
       ":   'normal'SY807\n",
       ":   'cancer'JC.repeat.02\n",
       ":   'normal'JC40002PL.02\n",
       ":   'normal'JC40004PL.02\n",
       ":   'normal'JC40006PL.02\n",
       ":   'normal'JC40009PL.02\n",
       ":   'normal'JC40011PL.02\n",
       ":   'normal'JC40013PL.02\n",
       ":   'normal'JC50006PL.02\n",
       ":   'normal'JC50008PL.02\n",
       ":   'normal'JC50010PL.02\n",
       ":   'normal'JC50012PL.02\n",
       ":   'cancer'JC50014PL.02\n",
       ":   'normal'JC50016PL.02\n",
       ":   'normal'JC50018PL.02\n",
       ":   'normal'JC50020PL.02\n",
       ":   'normal'JC50022PL.02\n",
       ":   'normal'JC50024PL.02\n",
       ":   'normal'JC50026PL.02\n",
       ":   'normal'JC50028PL.02\n",
       ":   'normal'\n",
       "\n"
      ],
      "text/plain": [
       "       GX009        SY682        SY688        SY701        SY703        SY712 \n",
       "    \"cancer\"     \"cancer\"     \"cancer\"     \"cancer\"     \"cancer\"     \"cancer\" \n",
       "       SY718        SY730        SY738        SY745        SY748        SY759 \n",
       "    \"normal\"     \"cancer\"     \"cancer\"     \"cancer\"     \"cancer\"     \"cancer\" \n",
       "       SY766        SY776        SY783        SY789        SY801        SY803 \n",
       "    \"cancer\"     \"cancer\"     \"cancer\"     \"cancer\"     \"normal\"     \"normal\" \n",
       "       SY807 JC.repeat.02 JC40002PL.02 JC40004PL.02 JC40006PL.02 JC40009PL.02 \n",
       "    \"cancer\"     \"normal\"     \"normal\"     \"normal\"     \"normal\"     \"normal\" \n",
       "JC40011PL.02 JC40013PL.02 JC50006PL.02 JC50008PL.02 JC50010PL.02 JC50012PL.02 \n",
       "    \"normal\"     \"normal\"     \"normal\"     \"normal\"     \"normal\"     \"cancer\" \n",
       "JC50014PL.02 JC50016PL.02 JC50018PL.02 JC50020PL.02 JC50022PL.02 JC50024PL.02 \n",
       "    \"normal\"     \"normal\"     \"normal\"     \"normal\"     \"normal\"     \"normal\" \n",
       "JC50026PL.02 JC50028PL.02 \n",
       "    \"normal\"     \"normal\" "
      ]
     },
     "metadata": {},
     "output_type": "display_data"
    }
   ],
   "source": [
    "library(ropls)\n",
    "sacurine.plsda <- opls(x = data_nor_num, y = data_nor[,1], orthoI = 0)\n",
    "sacurine.plsda\n",
    "\n",
    "par(mfrow = c(1, 2))\n",
    "plot(sacurine.plsda, typeVc = 'x-score', parAsColFcVn = as.factor(data_nor[,1]))\n",
    "plot(sacurine.plsda, typeVc = 'x-loading')\n",
    "\n",
    "\n",
    "#带模型预测性能评估的执行命令\n",
    "#如下示例，奇数行的数据用于构建 PLS-DA，偶数行的数据测试 PLS-DA\n",
    "#此外还可以自定义截取数据子集构建训练集或测试集等\n",
    "sacurine.plsda <- opls(x = data_nor_num, y = data_nor[,1], orthoI = 0, subset = \"odd\")\n",
    "sacurine.plsda\n",
    "\n",
    "#check training set\n",
    "trainVi <- getSubsetVi(sacurine.plsda)\n",
    "table(data_nor[,1][trainVi], fitted(sacurine.plsda))\n",
    "fitted(sacurine.plsda)\n",
    " \n",
    "#check testing set\n",
    "#data_nor_num[-trainVi, ]<-rbind(data_nor_num[-trainVi, ],data_nor[c(\"SY807\",\"SY803\"),-1])\n",
    "table(data_nor[,1][-trainVi], predict(sacurine.plsda, data_nor_num[-trainVi, ]))\n",
    "predict(sacurine.plsda, data_nor_num[-trainVi, ])"
   ]
  },
  {
   "cell_type": "code",
   "execution_count": 3,
   "metadata": {},
   "outputs": [
    {
     "data": {
      "text/html": [
       "<style>\n",
       ".list-inline {list-style: none; margin:0; padding: 0}\n",
       ".list-inline>li {display: inline-block}\n",
       ".list-inline>li:not(:last-child)::after {content: \"\\00b7\"; padding: 0 .5ex}\n",
       "</style>\n",
       "<ol class=list-inline><li>50</li><li>2</li></ol>\n"
      ],
      "text/latex": [
       "\\begin{enumerate*}\n",
       "\\item 50\n",
       "\\item 2\n",
       "\\end{enumerate*}\n"
      ],
      "text/markdown": [
       "1. 50\n",
       "2. 2\n",
       "\n",
       "\n"
      ],
      "text/plain": [
       "[1] 50  2"
      ]
     },
     "metadata": {},
     "output_type": "display_data"
    },
    {
     "data": {
      "text/html": [
       "<table>\n",
       "<caption>A data.frame: 6 × 2</caption>\n",
       "<thead>\n",
       "\t<tr><th></th><th scope=col>VIP</th><th scope=col>feature</th></tr>\n",
       "\t<tr><th></th><th scope=col>&lt;dbl&gt;</th><th scope=col>&lt;chr&gt;</th></tr>\n",
       "</thead>\n",
       "<tbody>\n",
       "\t<tr><th scope=row>Trp</th><td>2.791930</td><td>Trp           </td></tr>\n",
       "\t<tr><th scope=row>Glu</th><td>1.997862</td><td>Glu           </td></tr>\n",
       "\t<tr><th scope=row>PC.aa.C36.2</th><td>1.934994</td><td>PC.aa.C36.2   </td></tr>\n",
       "\t<tr><th scope=row>lysoPC.a.C26.0</th><td>1.843140</td><td>lysoPC.a.C26.0</td></tr>\n",
       "\t<tr><th scope=row>PC.aa.C34.1</th><td>1.738246</td><td>PC.aa.C34.1   </td></tr>\n",
       "\t<tr><th scope=row>PC.aa.C34.4</th><td>1.737227</td><td>PC.aa.C34.4   </td></tr>\n",
       "</tbody>\n",
       "</table>\n"
      ],
      "text/latex": [
       "A data.frame: 6 × 2\n",
       "\\begin{tabular}{r|ll}\n",
       "  & VIP & feature\\\\\n",
       "  & <dbl> & <chr>\\\\\n",
       "\\hline\n",
       "\tTrp & 2.791930 & Trp           \\\\\n",
       "\tGlu & 1.997862 & Glu           \\\\\n",
       "\tPC.aa.C36.2 & 1.934994 & PC.aa.C36.2   \\\\\n",
       "\tlysoPC.a.C26.0 & 1.843140 & lysoPC.a.C26.0\\\\\n",
       "\tPC.aa.C34.1 & 1.738246 & PC.aa.C34.1   \\\\\n",
       "\tPC.aa.C34.4 & 1.737227 & PC.aa.C34.4   \\\\\n",
       "\\end{tabular}\n"
      ],
      "text/markdown": [
       "\n",
       "A data.frame: 6 × 2\n",
       "\n",
       "| <!--/--> | VIP &lt;dbl&gt; | feature &lt;chr&gt; |\n",
       "|---|---|---|\n",
       "| Trp | 2.791930 | Trp            |\n",
       "| Glu | 1.997862 | Glu            |\n",
       "| PC.aa.C36.2 | 1.934994 | PC.aa.C36.2    |\n",
       "| lysoPC.a.C26.0 | 1.843140 | lysoPC.a.C26.0 |\n",
       "| PC.aa.C34.1 | 1.738246 | PC.aa.C34.1    |\n",
       "| PC.aa.C34.4 | 1.737227 | PC.aa.C34.4    |\n",
       "\n"
      ],
      "text/plain": [
       "               VIP      feature       \n",
       "Trp            2.791930 Trp           \n",
       "Glu            1.997862 Glu           \n",
       "PC.aa.C36.2    1.934994 PC.aa.C36.2   \n",
       "lysoPC.a.C26.0 1.843140 lysoPC.a.C26.0\n",
       "PC.aa.C34.1    1.738246 PC.aa.C34.1   \n",
       "PC.aa.C34.4    1.737227 PC.aa.C34.4   "
      ]
     },
     "metadata": {},
     "output_type": "display_data"
    }
   ],
   "source": [
    "#VIP 值帮助寻找重要的代谢物\n",
    "data(sacurine)\n",
    "vipVn <- getVipVn(sacurine.plsda)\n",
    "vipVn_select <- as.data.frame(vipVn[vipVn > 1])   #这里也通过 VIP>1 筛选下\n",
    "names(vipVn_select)[1] <- 'VIP'\n",
    "vipVn_select$feature<-rownames(vipVn_select)\n",
    "dim(vipVn_select)\n",
    "vipVn_select<-vipVn_select[order(vipVn_select$VIP, decreasing = TRUE), ]\n",
    "head(vipVn_select)\n",
    "#row.names(vipVn_select)\n",
    "write.csv(vipVn_select,file=\"data/vipVn_select_nor.csv\",quote=F,row.names=T)"
   ]
  },
  {
   "cell_type": "code",
   "execution_count": null,
   "metadata": {},
   "outputs": [],
   "source": []
  }
 ],
 "metadata": {
  "kernelspec": {
   "display_name": "R",
   "language": "R",
   "name": "ir"
  },
  "language_info": {
   "codemirror_mode": "r",
   "file_extension": ".r",
   "mimetype": "text/x-r-source",
   "name": "R",
   "pygments_lexer": "r",
   "version": "3.5.1"
  }
 },
 "nbformat": 4,
 "nbformat_minor": 2
}
